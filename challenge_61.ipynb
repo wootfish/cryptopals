{
 "cells": [
  {
   "cell_type": "markdown",
   "metadata": {},
   "source": [
    "All quotes below are excerpted from https://toadstyle.org/cryptopals/60.txt\n",
    "\n",
    "---\n",
    "```\n",
    "61. Duplicate-Signature Key Selection in ECDSA (and RSA)\n",
    "\n",
    "Suppose you have a message-signature pair. If I give you a public key\n",
    "that verifies the signature, can you trust that I'm the author?\n",
    "\n",
    "You shouldn't. It turns out to be pretty easy to solve this problem\n",
    "across a variety of digital signature schemes. If you have a little\n",
    "flexibility in choosing your public key, that is.\n",
    "\n",
    "Let's consider the case of ECDSA.\n",
    "\n",
    "First, implement ECDSA. If you still have your old DSA implementation\n",
    "lying around, this should be straightforward. All the same, here's a\n",
    "refresher if you need it:\n",
    "\n",
    "    function sign(m, d):\n",
    "        k := random_scalar(1, n)\n",
    "        r := (k * G).x\n",
    "        s := (H(m) + d*r) * k^-1\n",
    "        return (r, s)\n",
    "\n",
    "    function verify(m, (r, s), Q):\n",
    "        u1 := H(m) * s^-1\n",
    "        u2 := r * s^-1\n",
    "        R := u1*G + u2*Q\n",
    "        return r = R.x\n",
    "\n",
    "Remember that all the scalar operations are mod n, the order of the\n",
    "base point G. (d, Q) is the signer's key pair. H(m) is a hash of the\n",
    "message.\n",
    "\n",
    "Note that the verification function requires arbitrary point\n",
    "addition. This means your Montgomery ladder (which only performs\n",
    "scalar multiplication) won't work here. This is no big deal; just fall\n",
    "back to your old Weierstrass imlpementation.\n",
    "```"
   ]
  },
  {
   "cell_type": "code",
   "execution_count": 1,
   "metadata": {},
   "outputs": [],
   "source": [
    "from challenge_59 import Curve  # Weierstrass curve\n",
    "\n",
    "from dataclasses import dataclass\n",
    "from hashlib import sha256\n",
    "from random import SystemRandom\n",
    "randrange = SystemRandom().randrange  # we'll use a CSPRNG-backed randrange instead of the (insecure) default"
   ]
  },
  {
   "cell_type": "code",
   "execution_count": 2,
   "metadata": {},
   "outputs": [],
   "source": [
    "# parameters from cryptopals 59:\n",
    "curve = Curve(a=-95051, b=11279326, p=233970423115425145524320034830162017933)\n",
    "base = (182, 85518893674295321206118380980485522083)\n",
    "order = 29246302889428143187362802287225875743"
   ]
  },
  {
   "cell_type": "code",
   "execution_count": 3,
   "metadata": {},
   "outputs": [],
   "source": [
    "@dataclass\n",
    "class ECDSA:\n",
    "    curve: Curve\n",
    "    base: tuple\n",
    "    order: int\n",
    "\n",
    "    def sign(self, m: bytes, d: int):\n",
    "        curve, G, order = self.curve, self.base, self.order\n",
    "        hm = int(sha256(m).hexdigest(), base=16)\n",
    "\n",
    "        while True:  # loop for retrying k based on s\n",
    "            while True:  # loop for retrying k based on r\n",
    "                k = randrange(1, order)\n",
    "                r = curve.mul(G, k)[0] % order\n",
    "                if r != 0: break\n",
    "            s = (pow(k, -1, order) * (hm + d*r)) % order\n",
    "            if s != 0: break\n",
    "\n",
    "        return (r, s)\n",
    "\n",
    "    def verify(self, m, sig, pubkey):\n",
    "        r, s = sig\n",
    "        order = self.order\n",
    "        if not (0 < r < order and 0 < s < order):\n",
    "            print(\"ERR: r or s out of bounds!\")\n",
    "            return False\n",
    "        curve, G = self.curve, self.base\n",
    "        s_inv = pow(s, -1, order)\n",
    "        hm = int(sha256(m).hexdigest(), base=16)\n",
    "        u1 = (hm * s_inv) % order\n",
    "        u2 = (r * s_inv) % order\n",
    "        R = curve.add(curve.mul(base, u1),\n",
    "                      curve.mul(pubkey, u2))\n",
    "        return r == R[0] % order\n",
    "\n",
    "    def new_keypair(self):\n",
    "        d = randrange(1, order)\n",
    "        Q = self.curve.mul(self.base, d)\n",
    "        return (d, Q)  # private, public"
   ]
  },
  {
   "cell_type": "code",
   "execution_count": 9,
   "metadata": {},
   "outputs": [
    {
     "name": "stdout",
     "output_type": "stream",
     "text": [
      "(12029088164824484183368164751430187090, 22178218742078463887332301608157236967)\n",
      "True\n"
     ]
    }
   ],
   "source": [
    "dsa = ECDSA(curve, base, order)\n",
    "alice = dsa.new_keypair()\n",
    "_alice_priv, alice_pub = alice\n",
    "m = b\"they tell me i don't have a long time to change your mind\"\n",
    "\n",
    "sig = dsa.sign(m, _alice_priv)\n",
    "print(sig)\n",
    "print(dsa.verify(m, sig, alice_pub))"
   ]
  },
  {
   "cell_type": "code",
   "execution_count": null,
   "metadata": {},
   "outputs": [],
   "source": []
  },
  {
   "cell_type": "code",
   "execution_count": null,
   "metadata": {},
   "outputs": [],
   "source": []
  },
  {
   "cell_type": "code",
   "execution_count": null,
   "metadata": {},
   "outputs": [],
   "source": []
  },
  {
   "cell_type": "code",
   "execution_count": null,
   "metadata": {},
   "outputs": [],
   "source": []
  }
 ],
 "metadata": {
  "kernelspec": {
   "display_name": "Python 3",
   "language": "python",
   "name": "python3"
  },
  "language_info": {
   "codemirror_mode": {
    "name": "ipython",
    "version": 3
   },
   "file_extension": ".py",
   "mimetype": "text/x-python",
   "name": "python",
   "nbconvert_exporter": "python",
   "pygments_lexer": "ipython3",
   "version": "3.8.2"
  }
 },
 "nbformat": 4,
 "nbformat_minor": 4
}
