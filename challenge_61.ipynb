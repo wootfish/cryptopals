{
 "cells": [
  {
   "cell_type": "markdown",
   "metadata": {},
   "source": [
    "## All challenge text is excerpted from https://toadstyle.org/cryptopals/61.txt"
   ]
  },
  {
   "cell_type": "markdown",
   "metadata": {},
   "source": [
    "```\n",
    "// ------------------------------------------------------------\n",
    "\n",
    "61. Duplicate-Signature Key Selection in ECDSA (and RSA)\n",
    "\n",
    "Suppose you have a message-signature pair. If I give you a public key\n",
    "that verifies the signature, can you trust that I'm the author?\n",
    "\n",
    "You shouldn't. It turns out to be pretty easy to solve this problem\n",
    "across a variety of digital signature schemes. If you have a little\n",
    "flexibility in choosing your public key, that is.\n",
    "\n",
    "Let's consider the case of ECDSA.\n",
    "\n",
    "First, implement ECDSA. If you still have your old DSA implementation\n",
    "lying around, this should be straightforward. All the same, here's a\n",
    "refresher if you need it:\n",
    "\n",
    "    function sign(m, d):\n",
    "        k := random_scalar(1, n)\n",
    "        r := (k * G).x\n",
    "        s := (H(m) + d*r) * k^-1\n",
    "        return (r, s)\n",
    "\n",
    "    function verify(m, (r, s), Q):\n",
    "        u1 := H(m) * s^-1\n",
    "        u2 := r * s^-1\n",
    "        R := u1*G + u2*Q\n",
    "        return r = R.x\n",
    "\n",
    "Remember that all the scalar operations are mod n, the order of the\n",
    "base point G. (d, Q) is the signer's key pair. H(m) is a hash of the\n",
    "message.\n",
    "\n",
    "Note that the verification function requires arbitrary point\n",
    "addition. This means your Montgomery ladder (which only performs\n",
    "scalar multiplication) won't work here. This is no big deal; just fall\n",
    "back to your old Weierstrass imlpementation.\n",
    "\n",
    "Once you've got this implemented, generate a key pair for Alice and\n",
    "use it to sign some message m.\n",
    "```"
   ]
  },
  {
   "cell_type": "code",
   "execution_count": 1,
   "metadata": {},
   "outputs": [],
   "source": [
    "from from_notebook.challenge_59 import Curve  # Weierstrass curve\n",
    "\n",
    "from dataclasses import dataclass\n",
    "from hashlib import sha256\n",
    "from random import randrange, SystemRandom"
   ]
  },
  {
   "cell_type": "code",
   "execution_count": 2,
   "metadata": {},
   "outputs": [],
   "source": [
    "# parameters from challenge 59:\n",
    "curve = Curve(a=-95051, b=11279326, p=233970423115425145524320034830162017933)\n",
    "base = curve.point(182, 85518893674295321206118380980485522083)\n",
    "order = 29246302889428143187362802287225875743"
   ]
  },
  {
   "cell_type": "code",
   "execution_count": 3,
   "metadata": {},
   "outputs": [],
   "source": [
    "@dataclass\n",
    "class ECDSA:\n",
    "    curve: Curve\n",
    "    base: tuple\n",
    "    order: int\n",
    "    \n",
    "    def sign(self, m: bytes, d: int):\n",
    "        G, n = self.base, self.order\n",
    "        k = randrange(1, n)  # note: real implementations must somehow ensure that k is never reused\n",
    "        r = (k * G).x\n",
    "        H_m = int(sha256(m).hexdigest(), base=16)\n",
    "        s = ((H_m + d*r) * pow(k, -1, n)) % n\n",
    "        return r, s\n",
    "    \n",
    "    def verify(self, m: bytes, sig: tuple, Q, G=None):\n",
    "        G, n = (G or self.base), self.order\n",
    "        H_m = int(sha256(m).hexdigest(), base=16)\n",
    "        r, s = sig\n",
    "        assert 0 < r < curve.p and 0 < s < n\n",
    "        s_inv = pow(s, -1, n)\n",
    "        \n",
    "        u1 = (H_m * s_inv) % n\n",
    "        u2 = (r * s_inv) % n\n",
    "        R = u1*G + u2*Q\n",
    "        return r == R.x\n",
    "    \n",
    "    def keygen(self):\n",
    "        d = SystemRandom().randrange(1, order)\n",
    "        Q = d * self.base\n",
    "        return d, Q"
   ]
  },
  {
   "cell_type": "code",
   "execution_count": 4,
   "metadata": {},
   "outputs": [
    {
     "name": "stdout",
     "output_type": "stream",
     "text": [
      "Signature verified!\n"
     ]
    }
   ],
   "source": [
    "ecdsa = ECDSA(curve, base, order)\n",
    "alice = ecdsa.keygen()\n",
    "_alice_priv, alice_pub = alice\n",
    "\n",
    "m = b\"they tell me i don't have a long time to change your mind\"\n",
    "\n",
    "sig = ecdsa.sign(m, _alice_priv)\n",
    "assert ecdsa.verify(m, sig, alice_pub)\n",
    "print(\"Signature verified!\")"
   ]
  },
  {
   "cell_type": "markdown",
   "metadata": {},
   "source": [
    "```\n",
    "It would be tough for Eve to find a Q' to verify this signature if all\n",
    "the domain parameters are fixed. But the domain parameters might not\n",
    "be fixed - some protocols let the user specify them as part of their\n",
    "public key.\n",
    "\n",
    "Let's rearrange some terms. Consider this equality:\n",
    "\n",
    "    R = u1*G + u2*Q\n",
    "\n",
    "Let's do some regrouping:\n",
    "\n",
    "    R = u1*G + u2*(d*G)\n",
    "    R = (u1 + u2*d)*G\n",
    "\n",
    "Consider R, u1, and u2 to be fixed. That leaves Alice's secret d and\n",
    "the base point G. Since we don't know d, we'll need to choose a new\n",
    "pair of values for which the equality holds. We can do it by starting\n",
    "from the secret and working backwards.\n",
    "\n",
    "1. Choose a random d' mod n.\n",
    "\n",
    "2. Calculate t := u1 + u2*d'.\n",
    "\n",
    "3. Calculate G' := t^-1 * R.\n",
    "\n",
    "4. Calculate Q' := d' * G'.\n",
    "\n",
    "5. Eve's public key is Q' with domain parameters (E(GF(p)), n, G').\n",
    "   E(GF(p)) is the elliptic curve Alice originally chose.\n",
    "\n",
    "Note that Eve's public key is totally valid: both the base point and\n",
    "her public point are members of the subgroup of prime order n. Since\n",
    "E(GF(p)) and n are unchanged from Alice's public key, they should pass\n",
    "the same validation rules.\n",
    "\n",
    "Assuming the role of Eve, derive a public key and domain parameters to\n",
    "verify Alice's signature over the message.\n",
    "```"
   ]
  },
  {
   "cell_type": "code",
   "execution_count": 5,
   "metadata": {},
   "outputs": [],
   "source": [
    "def eve_keygen(ecdsa, pubkey, m, sig):\n",
    "    n, G = ecdsa.order, ecdsa.base\n",
    "    Q = pubkey\n",
    "    H_m = int(sha256(m).hexdigest(), base=16)\n",
    "    r, s = sig\n",
    "    s_inv = pow(s, -1, n)\n",
    "    u1 = (H_m * s_inv) % n\n",
    "    u2 = (r * s_inv) % n\n",
    "    d_prime = SystemRandom().randrange(1, n)\n",
    "    t = u1 + u2*d_prime\n",
    "    R = u1*G + u2*Q\n",
    "    G_prime = pow(t, -1, n) * R\n",
    "    Q_prime = d_prime * G_prime\n",
    "    return d_prime, Q_prime, G_prime"
   ]
  },
  {
   "cell_type": "code",
   "execution_count": 6,
   "metadata": {},
   "outputs": [
    {
     "name": "stdout",
     "output_type": "stream",
     "text": [
      "True\n"
     ]
    }
   ],
   "source": [
    "eve = eve_keygen(ecdsa, alice_pub, m, sig)\n",
    "_, eve_pub, G_prime = eve\n",
    "print(ecdsa.verify(m, sig, eve_pub, G=G_prime))"
   ]
  },
  {
   "cell_type": "code",
   "execution_count": 7,
   "metadata": {},
   "outputs": [],
   "source": [
    "# TODO: add dataclasses for domain parameters and keypairs so we aren't just passing individual params around"
   ]
  },
  {
   "cell_type": "markdown",
   "metadata": {},
   "source": [
    "```\n",
    "Let's do the same thing with RSA. Same setup: we have some message and\n",
    "a signature over it. How do we craft a public key to verify the\n",
    "signature?\n",
    "\n",
    "Well, first let's refresh ourselves on RSA. Signature verification\n",
    "looks like this:\n",
    "\n",
    "    s^e = pad(m) mod N\n",
    "\n",
    "Where (m, s) is the message-signature pair and (e, N) is Alice's\n",
    "public key.\n",
    "\n",
    "So what we're really looking for is the pair (e', N') to make that\n",
    "equality hold up. If this is starting to look a little familiar, it\n",
    "should: what we're doing here is looking for the discrete logarithm of\n",
    "pad(m) with base s.\n",
    "\n",
    "We know discrete logarithms are easy to solve with Pohlig-Hellman in\n",
    "groups with many small subgroups. And the choice of group is up to us,\n",
    "so we can't fail!\n",
    "\n",
    "But we should exercise some care. If we choose our primes incorrectly,\n",
    "the discrete logarithm won't exist.\n",
    "\n",
    "Okay, check the method:\n",
    "\n",
    "1. Pick a prime p. Here are some conditions for p:\n",
    "\n",
    "   a. p-1 should be smooth. How smooth is up to you, but you will need\n",
    "      to find discrete logarithms in each of these subgroups. You can\n",
    "      use something like Shanks or Pollard's rho to compute these in\n",
    "      square-root time.\n",
    "\n",
    "   b. s shouldn't be in any subgroup that pad(m) is not in. If it is,\n",
    "      the discrete logarithm won't exist. The simplest thing to do is\n",
    "      make sure they're both primitive roots. To check if an element g\n",
    "      is a primitive root mod p, check that:\n",
    "\n",
    "          g^((p-1)/q) != 1 mod p\n",
    "\n",
    "      For every factor q of p-1.\n",
    "\n",
    "2. Now pick a prime q. Ensure the same conditions as before, but add these:\n",
    "\n",
    "   a. Don't reuse any factors of p-1 other than 2. It's possible to\n",
    "      make this work with repeated factors, but it's a huge\n",
    "      headache. Better just to avoid it.\n",
    "\n",
    "   b. Make sure p*q is greater than Alice's modulus N. This is just to\n",
    "      make sure the signature and padded message will fit under your\n",
    "      new modulus.\n",
    "\n",
    "3. Use Pohlig-Hellman to derive ep = e' mod p and eq = e' mod q.\n",
    "\n",
    "4. Use the Chinese Remainder Theorem to put ep and eq together:\n",
    "\n",
    "       e' = crt([ep, eq], [p-1, q-1])\n",
    "\n",
    "5. Your public modulus is N' = p * q.\n",
    "\n",
    "6. You can derive d' in the normal fashion.\n",
    "\n",
    "Easy as pie. e' will be a lot larger than the typical public exponent,\n",
    "but that's still legal.\n",
    "```"
   ]
  },
  {
   "cell_type": "code",
   "execution_count": 8,
   "metadata": {},
   "outputs": [
    {
     "data": {
      "text/plain": [
       "Ellipsis"
      ]
     },
     "execution_count": 8,
     "metadata": {},
     "output_type": "execute_result"
    }
   ],
   "source": [
    "... # TODO"
   ]
  },
  {
   "cell_type": "markdown",
   "metadata": {},
   "source": [
    "```\n",
    "Since RSA signing and decryption are equivalent operations, you can\n",
    "use this same technique for other surprising results. Try generating a\n",
    "random (or chosen) ciphertext and creating a key to decrypt it to a\n",
    "plaintext of your choice!\n",
    "```"
   ]
  },
  {
   "cell_type": "code",
   "execution_count": 9,
   "metadata": {},
   "outputs": [
    {
     "data": {
      "text/plain": [
       "Ellipsis"
      ]
     },
     "execution_count": 9,
     "metadata": {},
     "output_type": "execute_result"
    }
   ],
   "source": [
    "... # TODO"
   ]
  },
  {
   "cell_type": "code",
   "execution_count": null,
   "metadata": {},
   "outputs": [],
   "source": []
  }
 ],
 "metadata": {
  "kernelspec": {
   "display_name": "Python 3",
   "language": "python",
   "name": "python3"
  },
  "language_info": {
   "codemirror_mode": {
    "name": "ipython",
    "version": 3
   },
   "file_extension": ".py",
   "mimetype": "text/x-python",
   "name": "python",
   "nbconvert_exporter": "python",
   "pygments_lexer": "ipython3",
   "version": "3.8.9"
  }
 },
 "nbformat": 4,
 "nbformat_minor": 4
}
