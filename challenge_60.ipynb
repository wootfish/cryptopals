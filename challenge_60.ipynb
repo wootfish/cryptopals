{
 "cells": [
  {
   "cell_type": "markdown",
   "metadata": {},
   "source": [
    "All quotes below are excerpted from https://toadstyle.org/cryptopals/60.txt\n",
    "\n",
    "```\n",
    "60. Single-Coordinate Ladders and Insecure Twists\n",
    "\n",
    "All our hard work is about to pay some dividends. Here's a list of\n",
    "cool-kids jargon you'll be able to deploy after completing this\n",
    "challenge:\n",
    "\n",
    "* Montgomery curve\n",
    "* single-coordinate ladder\n",
    "* isomorphism\n",
    "* birational equivalence\n",
    "* quadratic twist\n",
    "* trace of Frobenius\n",
    "\n",
    "Not that you'll understand it all; you won't. But you'll at least be\n",
    "able to silence crypto-dilettantes on Twitter.\n",
    "\n",
    "Now, to the task at hand. In the last problem, we implemented ECDH\n",
    "using a short Weierstrass curve form, like this:\n",
    "\n",
    "    y^2 = x^3 + a*x + b\n",
    "\n",
    "For a long time, this has been the most popular curve form. The NIST\n",
    "P-curves standardized in the 90s look like this. It's what you'll see\n",
    "first in most elliptic curve tutorials (including this one).\n",
    "\n",
    "We can do a lot better. Meet the Montgomery curve:\n",
    "\n",
    "    B*v^2 = u^3 + A*u^2 + u\n",
    "\n",
    "Although it's almost as old as the Weierstrass form, it's been buried\n",
    "in the literature until somewhat recently. The Montgomery curve has a\n",
    "killer feature in the form of a simple and efficient algorithm to\n",
    "compute scalar multiplication: the Montgomery ladder.\n",
    "\n",
    "Here's the ladder:\n",
    "\n",
    "    function ladder(u, k):\n",
    "        u2, w2 := (1, 0)\n",
    "        u3, w3 := (u, 1)\n",
    "        for i in reverse(range(bitlen(p))):\n",
    "            b := 1 & (k >> i)\n",
    "            u2, u3 := cswap(u2, u3, b)\n",
    "            w2, w3 := cswap(w2, w3, b)\n",
    "            u3, w3 := ((u2*u3 - w2*w3)^2,\n",
    "                       u * (u2*w3 - w2*u3)^2)\n",
    "            u2, w2 := ((u2^2 - w2^2)^2,\n",
    "                       4*u2*w2 * (u2^2 + A*u2*w2 + w2^2))\n",
    "            u2, u3 := cswap(u2, u3, b)\n",
    "            w2, w3 := cswap(w2, w3, b)\n",
    "        return u2 * w2^(p-2)\n",
    "\n",
    "You are not expected to understand this.\n",
    "\n",
    "Go ahead and implement the ladder. Remember that all computations are in GF(233970423115425145524320034830162017933).\n",
    "```"
   ]
  },
  {
   "cell_type": "code",
   "execution_count": 1,
   "metadata": {},
   "outputs": [],
   "source": [
    "from dataclasses import dataclass\n",
    "from itertools import combinations\n",
    "from datetime import datetime\n",
    "from random import randrange\n",
    "from math import log, ceil\n",
    "from pprint import pprint\n",
    "\n",
    "from challenge_31 import do_sha256, hmac\n",
    "from challenge_39 import invmod, InvModException\n",
    "from challenge_57 import primegen, int_to_bytes, mini_crt, crt\n",
    "from challenge_59 import tonelli_shanks, NoQuadraticResidueError"
   ]
  },
  {
   "cell_type": "code",
   "execution_count": 2,
   "metadata": {},
   "outputs": [
    {
     "name": "stdout",
     "output_type": "stream",
     "text": [
      "21.5 µs ± 1.27 µs per loop (mean ± std. dev. of 7 runs, 10000 loops each)\n",
      "7.26 µs ± 272 ns per loop (mean ± std. dev. of 7 runs, 100000 loops each)\n",
      "Looks good!\n"
     ]
    }
   ],
   "source": [
    "# I just found out that as of Python 3.8 we have a builtin modular inverse!\n",
    "# instead of invmod(n, p) we can just do pow(n, -1, p)\n",
    "# this builtin offers much better performance than our handrolled invmod()\n",
    "# check it out:\n",
    "from sys import version\n",
    "assert version >= '3.8'\n",
    "%timeit invmod(47056997434983591416443657936535857619, 233970423115425145524320034830162017933)\n",
    "%timeit pow(47056997434983591416443657936535857619, -1, 233970423115425145524320034830162017933)\n",
    "\n",
    "# we'll use pow() below - but let's make sure its behavior matches invmod()'s first\n",
    "def test_invmod():\n",
    "    p = 233970423115425145524320034830162017933\n",
    "    for _ in range(10000):\n",
    "        # get some n such that n has an inverse mod p\n",
    "        while True:\n",
    "            n = randrange(0, p)\n",
    "            try:\n",
    "                n_inv = invmod(n, p)\n",
    "            except InvModException:\n",
    "                continue\n",
    "            break\n",
    "        assert n_inv == pow(n, -1, p)\n",
    "\n",
    "test_invmod()\n",
    "print(\"Looks good!\")"
   ]
  },
  {
   "cell_type": "code",
   "execution_count": 118,
   "metadata": {},
   "outputs": [],
   "source": [
    "def cswap(a, b, i):\n",
    "    # b,a if i else a,b\n",
    "    return (b, a) if i else (a, b)  # absurdly, this is faster than the arithmetic implementation in python\n",
    "    #return (b*i + a*(1-i), a*i + b*(1-i))\n",
    "\n",
    "\n",
    "@dataclass\n",
    "class MontyCurve:\n",
    "    # reference document for formulas:\n",
    "    # https://www.hyperelliptic.org/EFD/g1p/auto-montgom.html\n",
    "    \n",
    "    a: int\n",
    "    b: int\n",
    "    p: int\n",
    "    \n",
    "    def __post_init__(self):\n",
    "        blp = int(ceil(log(self.p, 2)))  # bitlength of p\n",
    "        self._i_range = range(blp)[::-1]  # used by mul\n",
    "        \n",
    "    def add(self, u1, u2):\n",
    "        # (note: only returns u3)\n",
    "        # special cases: check for zeroes, equality, inverses\n",
    "        if u1 == 0: return u2\n",
    "        if u2 == 0: return u1\n",
    "        if u1 == u2: return self.double(u1)\n",
    "        p = self.p\n",
    "        if u1 == pow(u2, -1, p): return 0\n",
    "        \n",
    "        a, b = self.a, self.b\n",
    "        \n",
    "        v1 = self.get_v(u1)\n",
    "        v2 = self.get_v(u2)\n",
    "        \n",
    "        u3 = (b*pow(v2-v1, 2, p)*pow(u2-u1, -2, p) - a - u1 - u2) % p\n",
    "        return u3\n",
    "    \n",
    "    def add_pts(self, uv1, uv2):\n",
    "        u1, v1 = uv1\n",
    "        u2, v2 = uv2\n",
    "        if u1 == 0: return uv2\n",
    "        if u2 == 0: return uv1\n",
    "        if u1 == u2:\n",
    "            u3 = self.double(u1)\n",
    "            v3 = self.get_v(u3)\n",
    "            return (u3, v3)\n",
    "\n",
    "        p = self.p\n",
    "        if u1 == pow(u2, -1, p): return (0, 1)\n",
    "        a, b = self.a, self.b\n",
    "        \n",
    "        du = (u2-u1) % p\n",
    "        dv = (v2-v1) % p\n",
    "        dui = pow(du, -1, p)  # lol dui\n",
    "\n",
    "        u3 = (b * dv**2 * pow(dui, 2, p) - a - u1 - u2) % p\n",
    "        v3 = ((2*u1 + u2 + a) * dv * dui\n",
    "              - b*dv**3 * pow(dui, 3, p)\n",
    "              - v1) % p\n",
    "\n",
    "        return (u3, v3)\n",
    "\n",
    "    def double(self, u, v=None):\n",
    "        # special case: check for zero\n",
    "        if u == 0: return 0\n",
    "        \n",
    "        a, b, p = self.a, self.b, self.p\n",
    "        v = v or self.get_v(u)\n",
    "        u2 = (b*pow(3*pow(u, 2, p) + 2*a*u+1, 2, p) * pow(2*b*v, -2, p)-a-u-u) % p\n",
    "        return u2\n",
    "\n",
    "    def get_v(self, u):\n",
    "        a, b, p = self.a, self.b, self.p\n",
    "        assert b == 1  # make sure we can get away with omitting modinv(b) in here\n",
    "        rhs = (pow(u, 3, p) + a*pow(u, 2, p) + u) % p\n",
    "        v_sq = (rhs * pow(b, -1, p)) % p\n",
    "        v1, v2 = tonelli_shanks(rhs, p)\n",
    "        return v1 if v1 < v2 else v2  # assume we want the smaller v candidate\n",
    "    \n",
    "    def get_pt(self, u):  # convenience wrapper on get_v\n",
    "        return (u, self.get_v(u))\n",
    "    \n",
    "    def mul(self, u, k):\n",
    "        a = self.a\n",
    "        p = self.p\n",
    "        u2 = 1\n",
    "        w2 = 0\n",
    "        u3 = u\n",
    "        w3 = 1\n",
    "        for i in self._i_range:\n",
    "            b = 1 & (k >> i)\n",
    "            u2, u3 = (u3, u2) if b else (u2, u3)\n",
    "            w2, w3 = (w3, w2) if b else (w2, w3)\n",
    "            u3, w3 = ((u2*u3 - w2*w3)**2 % p,\n",
    "                       u * (u2*w3 - w2*u3)**2 % p)\n",
    "            u2, w2 = ((u2**2 - w2**2)**2 % p,\n",
    "                       4*u2*w2 * (u2**2 + a*u2*w2 + w2**2) % p)\n",
    "            u2, u3 = (u3, u2) if b else (u2, u3)\n",
    "            w2, w3 = (w3, w2) if b else (w2, w3)\n",
    "        return (u2 * pow(w2, p-2, p)) % p\n",
    "\n",
    "\n",
    "# ==== Profiling ====\n",
    "# %timeit get_extra_coeffs()\n",
    "# for 3 different implementations of MontyCurve.mul:\n",
    "# 2.87 s ± 66.4 ms per loop (mean ± std. dev. of 7 runs, 1 loop each)  cswap function (branching)\n",
    "# 2.68 s ± 64.2 ms per loop (mean ± std. dev. of 7 runs, 1 loop each)  cswap inlined (branching)\n",
    "# 3.14 s ± 33.8 ms per loop (mean ± std. dev. of 7 runs, 1 loop each)  cswap inlined (arithmetic)"
   ]
  },
  {
   "cell_type": "markdown",
   "metadata": {},
   "source": [
    "---\n",
    "```\n",
    "Oh yeah, the curve parameters. You might be thinking that since we're\n",
    "switching to a new curve format, we also need to pick out a whole new\n",
    "curve. But you'd be totally wrong! It turns out that some short\n",
    "Weierstrass curves can be converted into Montgomery curves.\n",
    "\n",
    "You can perform this conversion algebraically. But it's kind of a\n",
    "pain, so here you go:\n",
    "\n",
    "    v^2 = u^3 + 534*u^2 + u\n",
    "\n",
    "Through cunning and foresight, I have chosen this curve specifically\n",
    "to have a really simple map between Weierstrass and Montgomery\n",
    "forms. Here it is:\n",
    "\n",
    "    u = x - 178\n",
    "    v = y\n",
    "\n",
    "Which makes our base point:\n",
    "\n",
    "    (4, 85518893674295321206118380980485522083)\n",
    "\n",
    "Or, you know. Just 4.\n",
    "\n",
    "Anyway, implement the ladder. Verify ladder(4, n) = 0. Map some points\n",
    "back and forth between your Weierstrass and Montgomery representations\n",
    "and verify them.\n",
    "```"
   ]
  },
  {
   "cell_type": "code",
   "execution_count": 119,
   "metadata": {},
   "outputs": [
    {
     "ename": "AssertionError",
     "evalue": "",
     "output_type": "error",
     "traceback": [
      "\u001b[0;31m---------------------------------------------------------------------------\u001b[0m",
      "\u001b[0;31mAssertionError\u001b[0m                            Traceback (most recent call last)",
      "\u001b[0;32m<ipython-input-119-3de41e9331f0>\u001b[0m in \u001b[0;36m<module>\u001b[0;34m\u001b[0m\n\u001b[1;32m     19\u001b[0m )\n\u001b[1;32m     20\u001b[0m \u001b[0;34m\u001b[0m\u001b[0m\n\u001b[0;32m---> 21\u001b[0;31m assert curve.get_pt(curve.mul(4, 9)) == curve.add_pts(curve.add_pts(\n\u001b[0m\u001b[1;32m     22\u001b[0m     curve.add_pts(curve.add_pts(monty_base_pt, monty_base_pt),\n\u001b[1;32m     23\u001b[0m                   curve.add_pts(monty_base_pt, monty_base_pt)),\n",
      "\u001b[0;31mAssertionError\u001b[0m: "
     ]
    }
   ],
   "source": [
    "curve = MontyCurve(a=534, b=1, p=233970423115425145524320034830162017933)\n",
    "order = 233970423115425145498902418297807005944  # value copied from 59.txt\n",
    "\n",
    "assert curve.mul(4, order) == 0\n",
    "\n",
    "monty_base_pt = (4, curve.get_v(4))\n",
    "assert monty_base_pt == (4, 85518893674295321206118380980485522083)\n",
    "\n",
    "assert curve.mul(4, 8) == curve.add(\n",
    "    curve.add(curve.add(4, 4), curve.add(4, 4)),\n",
    "    curve.add(curve.add(4, 4), curve.add(4, 4))\n",
    ")\n",
    "\n",
    "assert curve.get_pt(curve.mul(4, 8)) == curve.add_pts(\n",
    "    curve.add_pts(curve.add_pts(monty_base_pt, monty_base_pt),\n",
    "                  curve.add_pts(monty_base_pt, monty_base_pt)),\n",
    "    curve.add_pts(curve.add_pts(monty_base_pt, monty_base_pt),\n",
    "                  curve.add_pts(monty_base_pt, monty_base_pt))\n",
    ")\n",
    "\n",
    "assert curve.get_pt(curve.mul(4, 9)) == curve.add_pts(curve.add_pts(\n",
    "    curve.add_pts(curve.add_pts(monty_base_pt, monty_base_pt),\n",
    "                  curve.add_pts(monty_base_pt, monty_base_pt)),\n",
    "    curve.add_pts(curve.add_pts(monty_base_pt, monty_base_pt),\n",
    "                  curve.add_pts(monty_base_pt, monty_base_pt))\n",
    "), monty_base_pt)\n",
    "\n",
    "_s = curve.mul(4, 300)\n",
    "_t = curve.get_v(_s)\n",
    "_u = curve.mul(4, 1337)\n",
    "_v = curve.get_v(_u)\n",
    "%timeit curve.mul(4, 1337)\n",
    "%timeit curve.get_v(_u)\n",
    "%timeit curve.add_pts((_s, _t), (_u, _v))\n",
    "del _s, _t, _u, _v"
   ]
  },
  {
   "cell_type": "code",
   "execution_count": 115,
   "metadata": {},
   "outputs": [],
   "source": [
    "from challenge_59 import Curve as WeierCurve\n",
    "w_curve = WeierCurve(a=-95051, b=11279326, p=233970423115425145524320034830162017933)\n",
    "w_base = (182, 85518893674295321206118380980485522083)"
   ]
  },
  {
   "cell_type": "code",
   "execution_count": 6,
   "metadata": {},
   "outputs": [
    {
     "name": "stdout",
     "output_type": "stream",
     "text": [
      "All good!\n"
     ]
    }
   ],
   "source": [
    "def to_monty(pt):\n",
    "    if pt is w_curve.zero:\n",
    "        return 0\n",
    "    x = pt[0]\n",
    "    return x - 178\n",
    "\n",
    "\n",
    "def to_weier(u):\n",
    "    if u == 0:\n",
    "        return w_curve.zero\n",
    "    p, a = curve.p, curve.a\n",
    "    v1, v2 = tonelli_shanks(\n",
    "        (pow(u, 3, p) + a*pow(u, 2, p) + u),\n",
    "        p\n",
    "    )\n",
    "    return (u + 178, v1), (u + 178, v2)  # two possibilities\n",
    "\n",
    "\n",
    "def test_monty_weier_conversion():\n",
    "    assert to_monty(w_base) == 4\n",
    "    \n",
    "    for _ in range(50):\n",
    "        i = randrange(0, 10000)\n",
    "        w = w_curve.mul(w_base, i)\n",
    "        m = curve.mul(4, i)\n",
    "        \n",
    "        assert to_monty(w) == m\n",
    "        assert w in to_weier(m)\n",
    "        \n",
    "    print(\"All good!\", flush=True)\n",
    "\n",
    "test_monty_weier_conversion()"
   ]
  },
  {
   "cell_type": "markdown",
   "metadata": {},
   "source": [
    "---\n",
    "```\n",
    "One nice thing about the Montgomery ladder is its lack of special\n",
    "cases. Specifically, no special handling of: P1 = O; P2 = O; P1 = P2;\n",
    "or P1 = -P2. Contrast that with our Weierstrass addition function and\n",
    "its battalion of ifs.\n",
    "\n",
    "And there's a security benefit, too: by ignoring the v coordinate, we\n",
    "take away a lot of leeway from the attacker. Recall that the ability\n",
    "to choose arbitrary (x, y) pairs let them cherry-pick points from any\n",
    "curve they can think of. The single-coordinate ladder robs the\n",
    "attacker of that freedom.\n",
    "\n",
    "But hang on a tick! Give this a whirl:\n",
    "\n",
    "    ladder(76600469441198017145391791613091732004, 11)\n",
    "```"
   ]
  },
  {
   "cell_type": "code",
   "execution_count": 7,
   "metadata": {},
   "outputs": [
    {
     "data": {
      "text/plain": [
       "0"
      ]
     },
     "execution_count": 7,
     "metadata": {},
     "output_type": "execute_result"
    }
   ],
   "source": [
    "u = 76600469441198017145391791613091732004\n",
    "curve.mul(u, 11)"
   ]
  },
  {
   "cell_type": "markdown",
   "metadata": {},
   "source": [
    "---\n",
    "```\n",
    "What the heck? What's going on here?\n",
    "\n",
    "Let's do a quick sanity check. Here's the curve equation again:\n",
    "\n",
    "    v^2 = u^3 + 534*u^2 + u\n",
    "\n",
    "Plug in u and take the square root to recover v.\n",
    "```"
   ]
  },
  {
   "cell_type": "code",
   "execution_count": 8,
   "metadata": {},
   "outputs": [
    {
     "name": "stdout",
     "output_type": "stream",
     "text": [
      "ERROR: Square root of 76600469441198017145391791613091732004 does not exist!\n"
     ]
    }
   ],
   "source": [
    "def u_to_v(u, curve=curve):\n",
    "    p = curve.p\n",
    "    v_sq = (u**3 + curve.a * u**2 + u) % p\n",
    "    return tonelli_shanks(v_sq, p)\n",
    "\n",
    "try:\n",
    "    u_to_v(u)\n",
    "except NoQuadraticResidueError:\n",
    "    print(\"ERROR: Square root of\", u, \"does not exist!\")"
   ]
  },
  {
   "cell_type": "markdown",
   "metadata": {},
   "source": [
    "---\n",
    "```\n",
    "You should detect that something is quite wrong. This u does not\n",
    "represent a point on our curve! Not every u does.\n",
    "\n",
    "This means that even though we can only submit one coordinate, we\n",
    "still have a little bit of leeway to find invalid\n",
    "points. Specifically, an input u such that u^3 + 534*u^2 + u is not a\n",
    "quadratic residue can never represent a point on our curve. So where\n",
    "the heck are we?\n",
    "\n",
    "The other curve we're on is a sister curve called a \"quadratic twist\",\n",
    "or simply \"the twist\". There is actually a whole family of quadratic\n",
    "twists to our curve, but they're all isomorphic to each\n",
    "other. Remember that that means they have the same number of points,\n",
    "the same subgroups, etc. So it doesn't really matter which particular\n",
    "twist we use; in fact, we don't even need to pick one.\n",
    "\n",
    "...\n",
    "\n",
    "If Alice chose a curve with an insecure twist, i.e. one with a\n",
    "partially smooth order, then some doors open back up for Eve. She can\n",
    "choose low-order points on the twisted curve, send them to Alice, and\n",
    "perform the invalid-curve attack as before.\n",
    "\n",
    "The only caveat is that she won't be able to recover the full secret\n",
    "using off-curve points, only a fraction of it. But we know how to\n",
    "handle that.\n",
    "\n",
    "So:\n",
    "\n",
    "1. Calculate the order of the twist and find its small factors. This\n",
    "   one should have a bunch under 2^24.\n",
    "```"
   ]
  },
  {
   "cell_type": "code",
   "execution_count": 9,
   "metadata": {},
   "outputs": [
    {
     "name": "stdout",
     "output_type": "stream",
     "text": [
      "Twist's order: 233970423115425145549737651362517029924\n",
      "Factoring...\n",
      "CPU times: user 22.5 s, sys: 334 ms, total: 22.8 s\n",
      "Wall time: 23.2 s\n",
      "Small, non-repeated factors: [11, 107, 197, 1621, 105143, 405373, 2323367]\n"
     ]
    }
   ],
   "source": [
    "# The ordinary curve and its twist have 2*p + 2 points between them.\n",
    "# The curve's order is known, so we can take the difference to find the twist's order:\n",
    "twist_order = 2*curve.p + 2 - order\n",
    "\n",
    "print(\"Twist's order:\", twist_order)\n",
    "print(\"Factoring...\")\n",
    "%time factors = [p for p in primegen(up_to=2**24) if twist_order % p == 0 and (twist_order // p) % p != 0]\n",
    "print(\"Small, non-repeated factors:\", factors)"
   ]
  },
  {
   "cell_type": "markdown",
   "metadata": {},
   "source": [
    "----\n",
    "```\n",
    "2. Find points with those orders. This is simple:\n",
    "\n",
    "   a. Choose a random u mod p and verify that u^3 + A*u^2 + u is a\n",
    "      nonsquare in GF(p).\n",
    "\n",
    "   b. Call the order of the twist n. To find an element of order q,\n",
    "      calculate ladder(u, n/q).\n",
    "```"
   ]
  },
  {
   "cell_type": "code",
   "execution_count": 10,
   "metadata": {},
   "outputs": [
    {
     "name": "stdout",
     "output_type": "stream",
     "text": [
      "{11: 4612483201341222105440076661179035958,\n",
      " 107: 18099852405125855464264947824566507330,\n",
      " 197: 225494731239453515166586115190288828970,\n",
      " 1621: 115238928844861045744207102317754039233,\n",
      " 105143: 229733822672992277471837182483615023120,\n",
      " 405373: 103320172949680924817459278946697673994,\n",
      " 2323367: 93075486678225809954488184832110610762}\n",
      "\n",
      "Here's the order-11 twist subgroup we found:\n",
      "0\n",
      "4612483201341222105440076661179035958\n",
      "76600469441198017145391791613091732004\n",
      "105888069003703096891937904030103459645\n",
      "173527332646559565669040569905840307859\n",
      "1430388126279164727092494211327512206\n",
      "1430388126279164727092494211327512206\n",
      "173527332646559565669040569905840307859\n",
      "105888069003703096891937904030103459645\n",
      "76600469441198017145391791613091732004\n",
      "4612483201341222105440076661179035958\n",
      "0\n",
      "4612483201341222105440076661179035958\n",
      "...\n",
      "\n"
     ]
    }
   ],
   "source": [
    "# encapsulate this search in a function to avoid cluttering the top level namespace with temp variables\n",
    "def get_twist_point(fac):\n",
    "    p = curve.p\n",
    "    ladder = curve.mul\n",
    "\n",
    "    while True:\n",
    "        u = randrange(0, p)\n",
    "        expr = (pow(u, 3, curve.p) + curve.a*pow(u, 2, p) + u) % curve.p\n",
    "        try:\n",
    "            tonelli_shanks(expr, p)\n",
    "        except NoQuadraticResidueError: pass\n",
    "        else: continue\n",
    "        elem = ladder(u, twist_order // fac)\n",
    "        if elem != 0:\n",
    "            break\n",
    "\n",
    "    assert twist_order % fac == 0\n",
    "    assert ladder(elem, fac) == 0\n",
    "\n",
    "    return elem\n",
    "\n",
    "twist_points = {fac: get_twist_point(fac) for fac in factors}\n",
    "pprint(twist_points)\n",
    "\n",
    "print(\"\\nHere's the order-11 twist subgroup we found:\")\n",
    "for i in range(13):\n",
    "    print(curve.mul(twist_points[11], i))\n",
    "print(\"...\\n\")\n",
    "\n",
    "# note how all the i'th and 11-i'th elements are equal\n",
    "# this is the cause of the 'combinatorial explosion' alluded to at the end of 60.txt\n",
    "# we can probably get some \"easy\" wins by taking additional residues mod eg 11*107, 11*197, ...\n",
    "# this would reduce our final search's work factor by a factor of 2, at the cost of some precomputation\n",
    "# we'll see diminishing returns as the precomputation starts to involve larger subgroups and gets more expensive\n",
    "# thus, this becomes an optimization problem - but i'm getting ahead of myself here\n",
    "# we'll have to work through some more preliminaries before we get to work on solving that problem"
   ]
  },
  {
   "cell_type": "markdown",
   "metadata": {},
   "source": [
    "---\n",
    "```\n",
    "3. Send these points to Alice to recover portions of her secret.\n",
    "```"
   ]
  },
  {
   "cell_type": "code",
   "execution_count": 11,
   "metadata": {},
   "outputs": [
    {
     "name": "stdout",
     "output_type": "stream",
     "text": [
      "Alice initialized. Pubkey: 37644840017132819785764168828753392334\n"
     ]
    }
   ],
   "source": [
    "# implementation of Alice here is modeled on challenge 58's Bob\n",
    "# cf that block's comments\n",
    "\n",
    "def alice_coro(message):\n",
    "    p, mul = curve.p, curve.mul\n",
    "    #priv = randrange(0, order)\n",
    "    priv = randrange(0, 100)\n",
    "    pub = mul(4, priv)\n",
    "\n",
    "    h = (yield pub)\n",
    "    while True:\n",
    "        secret = mul(h, priv)\n",
    "        K = do_sha256(int_to_bytes(secret))\n",
    "        t = hmac(K, message)\n",
    "        h = (yield (message, t))\n",
    "\n",
    "alice = alice_coro(b\"no alarms and no surprises\")\n",
    "alice_pubkey = next(alice)\n",
    "print(\"Alice initialized. Pubkey:\", alice_pubkey)"
   ]
  },
  {
   "cell_type": "code",
   "execution_count": 12,
   "metadata": {},
   "outputs": [],
   "source": [
    "def get_tag(message, guess):\n",
    "    K = do_sha256(int_to_bytes(guess))\n",
    "    tag = hmac(K, message)\n",
    "    return tag\n",
    "\n",
    "\n",
    "def recover_coefficient(g, order, message, t):\n",
    "    ladder = curve.mul\n",
    "    for i in range(order):\n",
    "        if get_tag(message, ladder(g, i)) == t:\n",
    "            return (i, order-i)\n",
    "    print(\"coefficient not found (?!)\")\n",
    "    raise Exception(\"this should never happen\")"
   ]
  },
  {
   "cell_type": "code",
   "execution_count": 13,
   "metadata": {},
   "outputs": [
    {
     "name": "stdout",
     "output_type": "stream",
     "text": [
      "This step's runtime varies widely. It may take a while.\n",
      "\n",
      "Recovering possible residues mod 11 ...\n",
      "CPU times: user 1.92 ms, sys: 0 ns, total: 1.92 ms\n",
      "Wall time: 3.58 ms\n",
      "\n",
      "Recovering possible residues mod 107 ...\n",
      "CPU times: user 5.52 ms, sys: 0 ns, total: 5.52 ms\n",
      "Wall time: 5.58 ms\n",
      "\n",
      "Recovering possible residues mod 197 ...\n",
      "CPU times: user 59.3 ms, sys: 0 ns, total: 59.3 ms\n",
      "Wall time: 63.4 ms\n",
      "\n",
      "Recovering possible residues mod 1621 ...\n",
      "CPU times: user 94.6 ms, sys: 1.14 ms, total: 95.8 ms\n",
      "Wall time: 102 ms\n",
      "\n",
      "Recovering possible residues mod 105143 ...\n",
      "CPU times: user 59 ms, sys: 0 ns, total: 59 ms\n",
      "Wall time: 63 ms\n",
      "\n",
      "Recovering possible residues mod 405373 ...\n",
      "CPU times: user 70.5 ms, sys: 1.07 ms, total: 71.6 ms\n",
      "Wall time: 75.6 ms\n",
      "\n",
      "Recovering possible residues mod 2323367 ...\n",
      "CPU times: user 80.2 ms, sys: 197 µs, total: 80.4 ms\n",
      "Wall time: 99 ms\n",
      "Done!\n",
      "\n",
      "{11: (2, 9),\n",
      " 107: (10, 97),\n",
      " 197: (97, 100),\n",
      " 1621: (97, 1524),\n",
      " 105143: (97, 105046),\n",
      " 405373: (97, 405276),\n",
      " 2323367: (97, 2323270)}\n"
     ]
    }
   ],
   "source": [
    "coeffs = {}\n",
    "\n",
    "print(\"This step's runtime varies widely. It may take a while.\")\n",
    "for small_order, small_pt in twist_points.items():\n",
    "    print(\"\\nRecovering possible residues mod\", small_order, \"...\", flush=True)\n",
    "    message, t = alice.send(small_pt)\n",
    "    %time i1, i2 = recover_coefficient(small_pt, small_order, message, t)\n",
    "    coeffs[small_order] = i1, i2\n",
    "\n",
    "print(\"Done!\\n\")\n",
    "pprint(coeffs)"
   ]
  },
  {
   "cell_type": "code",
   "execution_count": 14,
   "metadata": {},
   "outputs": [
    {
     "name": "stdout",
     "output_type": "stream",
     "text": [
      "Recovering possible residues mod 11*107\n",
      "Recovering possible residues mod 11*197\n",
      "Recovering possible residues mod 11*1621\n",
      "Recovering possible residues mod 11*105143\n",
      "Recovering possible residues mod 11*405373\n",
      "Recovering possible residues mod 11*2323367\n",
      "Done!\n",
      "\n",
      "CPU times: user 66.8 ms, sys: 3.96 ms, total: 70.8 ms\n",
      "Wall time: 97.8 ms\n",
      "{(11, 107): (1080, 97),\n",
      " (11, 197): (97, 2070),\n",
      " (11, 1621): (97, 17734),\n",
      " (11, 105143): (97, 1156476),\n",
      " (11, 405373): (97, 4459006),\n",
      " (11, 2323367): (97, 25556940)}\n"
     ]
    }
   ],
   "source": [
    "# Let's make like a tree and generate even more residues :)\n",
    "\n",
    "\n",
    "def get_extra_coeffs():\n",
    "    extra_coeffs = {}\n",
    "    p1 = factors[0]\n",
    "    for p2 in factors[1:]:\n",
    "        print(f\"Recovering possible residues mod {p1}*{p2}\", flush=True)\n",
    "        o = p1*p2\n",
    "        while True:\n",
    "            pt = get_twist_point(o)\n",
    "            # make sure pt has order p1*p2, not order p1 or p2\n",
    "            if curve.mul(pt, p1) != 0 and curve.mul(pt, p2) != 0:\n",
    "                break\n",
    "\n",
    "        message, tag = alice.send(pt)\n",
    "\n",
    "        candidates = [mini_crt(r1, p1, r2, p2)[0] for r2 in coeffs[p2] for r1 in coeffs[p1]]\n",
    "\n",
    "        extra_coeffs[p1, p2] = tuple(res for res in candidates\n",
    "                                     if get_tag(message, curve.mul(pt, res)) == tag)\n",
    "        assert extra_coeffs[p1, p2]\n",
    "        assert len(extra_coeffs[p1, p2]) == 2  # make sure we've gained information by doing this\n",
    "        # NOTE: a fully automated implementation of this attack would have to omit this second assertion,\n",
    "        # since there is a small chance of these residues being zero, in which case we'd end up with\n",
    "        # extra_coeffs[p1, p2] == [0, 0, 0, 0]\n",
    "        # this would actually be a good outcome because it'd bring us down to one possible residue\n",
    "        # (rather than two)\n",
    "        # but dealing with it would take some extra bookkeeping\n",
    "        \n",
    "    print(\"Done!\\n\")\n",
    "    return extra_coeffs\n",
    "\n",
    "\n",
    "%time extra_coeffs = get_extra_coeffs()\n",
    "pprint(extra_coeffs)"
   ]
  },
  {
   "cell_type": "code",
   "execution_count": 15,
   "metadata": {},
   "outputs": [
    {
     "name": "stdout",
     "output_type": "stream",
     "text": [
      "[[(2, 10), (9, 97)],\n",
      " [(2, 100), (9, 97)],\n",
      " [(2, 1524), (9, 97)],\n",
      " [(2, 105046), (9, 97)],\n",
      " [(2, 405276), (9, 97)],\n",
      " [(2, 2323270), (9, 97)]]\n",
      "\n",
      "2 possible combinations of residues (down from 128):\n",
      "(2, 10, 100, 1524, 105046, 405276, 2323270)\n",
      "(9, 97, 97, 97, 97, 97, 97)\n"
     ]
    }
   ],
   "source": [
    "residue_pairs = []\n",
    "\n",
    "for t1, t2 in extra_coeffs.items():\n",
    "    p1, p2 = t1\n",
    "    r1, r2 = t2\n",
    "    pairs = (r1%p1, r1%p2), (r2%p1, r2%p2)\n",
    "    residue_pairs.append(sorted(pairs))\n",
    "\n",
    "res_seq_1 = (coeffs[11][0],) + tuple(t[0][1] for t in residue_pairs)\n",
    "res_seq_2 = (coeffs[11][1],) + tuple(t[1][1] for t in residue_pairs)\n",
    "\n",
    "pprint(residue_pairs)\n",
    "print()\n",
    "print(\"2 possible combinations of residues (down from 128):\")\n",
    "print(res_seq_1)\n",
    "print(res_seq_2)"
   ]
  },
  {
   "cell_type": "markdown",
   "metadata": {},
   "source": [
    "---\n",
    "```\n",
    "4. When you've exhausted all the small subgroups in the twist, recover\n",
    "   the remainder of Alice's secret with the kangaroo attack.\n",
    "```"
   ]
  },
  {
   "cell_type": "code",
   "execution_count": 95,
   "metadata": {},
   "outputs": [],
   "source": [
    "# commenting f here since the function is actually inlined below\n",
    "#def f(u, k):  # lol fuk\n",
    "#    return 1 << (u % k)  # == 2**(u % k)\n",
    "\n",
    "vals = {}\n",
    "\n",
    "def ec_pollard(curve, g, y, a, b, k):\n",
    "    add_pts, mul, get_pt = curve.add_pts, curve.mul, curve.get_pt\n",
    "    \n",
    "    for key in ('xt', 'yt', 'xw', 'yw'):\n",
    "        vals[key] = []\n",
    "    \n",
    "    pt_cache = [get_pt(mul(g, 1 << u)) for u in range(k)] # this cache lets us avoid costly calls like\n",
    "                                                          # get_pt() and mul() in this func's hotspots\n",
    "    N = 4 * (2**k - 1) // k  # TODO make sure this formula is correct\n",
    "    N *= 100\n",
    "\n",
    "    print(f\"Starting Pollard's algorithm (k = {k}, N = {N})\")\n",
    "    print()\n",
    "    print(\"Taking the tame kangaroo out for a walk.\")\n",
    "\n",
    "    xT = 0\n",
    "    yT = get_pt(mul(g, b))\n",
    "    for i in range(N):\n",
    "        u = yT[0] % k\n",
    "        f_yT = 1 << u\n",
    "        xT += f_yT\n",
    "        yT = add_pts(yT, pt_cache[u])\n",
    "        \n",
    "        vals['xt'].append(xT)\n",
    "        vals['yt'].append(yT)\n",
    "\n",
    "    print(\"Releasing the wild kangaroo! (this will take a while)\")\n",
    "    t0 = datetime.now()\n",
    "    print(\"Wild kangaroo starting at:\", t0)\n",
    "\n",
    "    xW = 0\n",
    "    yW = get_pt(y)\n",
    "\n",
    "    bound = b - a + xT\n",
    "    update_interval = 2**23 - 1\n",
    "    i = 0\n",
    "\n",
    "    while xW < bound:\n",
    "        i += 1\n",
    "        if i & update_interval == 0:\n",
    "            progress = xW / bound\n",
    "            if (progress > 0):\n",
    "                ti = datetime.now() - t0\n",
    "                est_duration = ti / progress\n",
    "                print(f\"{progress:f}% done | Appx time remaining: ({est_duration - ti} / {est_duration})\")\n",
    "        u = yW[0] % k\n",
    "        f_yW = 1 << u\n",
    "        xW += f_yW\n",
    "        yW = add_pts(yW, pt_cache[u])\n",
    "        \n",
    "        vals['xw'].append(xW)\n",
    "        vals['yw'].append(yW)\n",
    "        \n",
    "        if yW[0] == yT[0]:\n",
    "            print(\"The wild kangaroo found something!\")\n",
    "            return b + xT - xW"
   ]
  },
  {
   "cell_type": "code",
   "execution_count": 96,
   "metadata": {
    "scrolled": true
   },
   "outputs": [
    {
     "name": "stdout",
     "output_type": "stream",
     "text": [
      "Candidate residue: 37220200115549684379402940 mod 37220200115549684379403037\n",
      "Searching for an index on the range [0, 100]\n",
      "(starting at 2020-08-27 01:25:41.466461)\n",
      "Starting Pollard's algorithm (k = 12, N = 136500)\n",
      "\n",
      "Taking the tame kangaroo out for a walk.\n",
      "Releasing the wild kangaroo! (this will take a while)\n",
      "Wild kangaroo starting at: 2020-08-27 01:25:46.457602\n",
      "Candidate dlog: None\n",
      "\n",
      "Done! Candidates: [None]\n"
     ]
    }
   ],
   "source": [
    "# NOTE: this works, but it is NOT fast! this cell will take hours to evaluate\n",
    "\n",
    "def get_candidate_dlogs():\n",
    "    dlogs = []\n",
    "\n",
    "    for residues in (res_seq_1, res_seq_2):\n",
    "        residue, modulus = crt(residues, factors)\n",
    "        print(\"Candidate residue:\", residue, \"mod\", modulus)\n",
    "\n",
    "        # apply transformations analogous to those in 58.txt\n",
    "        g_inv = curve.mul(4, order-modulus)\n",
    "        y_prime = curve.add(alice_pubkey, g_inv)\n",
    "        g_prime = curve.mul(4, modulus)\n",
    "\n",
    "        # we need to find m such that curve.mul(g_prime, m) equals y_prime\n",
    "        # then our guess for the private key is just residue + m*modulus\n",
    "\n",
    "        lb = 0\n",
    "        ub = 100\n",
    "        #ub = (order // modulus)  # // 2  # we only need to search the first half of the possibility space\n",
    "        print(f\"Searching for an index on the range [{lb}, {ub}]\")\n",
    "        print(f\"(starting at {datetime.now()})\")\n",
    "        dlog = ec_pollard(curve, g_prime, y_prime, lb, ub, k=12)\n",
    "        print(\"Candidate dlog:\", dlog)\n",
    "        dlogs.append(dlog)\n",
    "        print()\n",
    "\n",
    "        return dlogs\n",
    "\n",
    "dlogs = get_candidate_dlogs()\n",
    "#while (dlogs := get_candidate_dlogs()) == [None, None]:\n",
    "    #pass\n",
    "\n",
    "print(\"Done! Candidates:\", dlogs)"
   ]
  },
  {
   "cell_type": "code",
   "execution_count": 97,
   "metadata": {},
   "outputs": [
    {
     "name": "stdout",
     "output_type": "stream",
     "text": [
      "136500\n",
      "[1, 33, 289, 293, 301, 302, 306, 818, 820, 1332, 1348, 1860, 2884, 3012, 3014]\n",
      "[2145, 2401, 2465, 2497, 3009, 5057, 5089, 5217, 5281, 5289, 5353, 5355, 5363, 5619, 5623]\n",
      "\n",
      "63750792713834864629903499915386397393\n",
      "63750792713834864629903499915386397393\n",
      "\n",
      "199080820642446984608044635752747605928\n",
      "23608145501791020186233703885384685972\n",
      "13041118279603822404611601605020549589\n",
      "158988883631640302393496269327278945300\n",
      "126743804564738911578487692131485054757\n",
      "178090817352490716473067671841527167405\n",
      "159776842731736083679237269437819421544\n",
      "205761830368124404796363497722025246670\n",
      "146555058712392482886585495713665463698\n",
      "3047139382530231295527342473413979694\n",
      "53591006328531766930463379114497154078\n"
     ]
    }
   ],
   "source": [
    "print(len(vals['xt']))\n",
    "print(vals['xt'][:15])\n",
    "print([val + 97 for val in vals['xw'][:15]])\n",
    "print()\n",
    "print(vals['yt'][0][0])\n",
    "print(curve.mul(4, 37220200115549684379403037*(98+vals['xt'][0])))\n",
    "print()\n",
    "print(vals['yt'][1][0])\n",
    "for i in range(95, 105):\n",
    "    print(curve.mul(4, 37220200115549684379403037*(i+vals['xt'][1])))\n",
    "\n",
    "\n",
    "#for pt in vals['yt']:\n",
    "#    if pt in vals['yw']:\n",
    "#        print(\"o shit!!!!\")\n",
    "#        break\n",
    "\n",
    "#for pt in vals['yw']:\n",
    "#    if pt in vals['yt']:\n",
    "#        print(\"whoa\")\n",
    "#        break\n",
    "\n"
   ]
  },
  {
   "cell_type": "code",
   "execution_count": 112,
   "metadata": {},
   "outputs": [
    {
     "data": {
      "text/plain": [
       "[199080820642446984608044635752747605928,\n",
       " 199080820642446984608044635752747605928,\n",
       " 199080820642446984608044635752747605928,\n",
       " 199080820642446984608044635752747605928,\n",
       " 199080820642446984608044635752747605928,\n",
       " 199080820642446984608044635752747605928,\n",
       " 199080820642446984608044635752747605928,\n",
       " 199080820642446984608044635752747605928,\n",
       " 199080820642446984608044635752747605928,\n",
       " 199080820642446984608044635752747605928]"
      ]
     },
     "execution_count": 112,
     "metadata": {},
     "output_type": "execute_result"
    }
   ],
   "source": []
  },
  {
   "cell_type": "code",
   "execution_count": 105,
   "metadata": {},
   "outputs": [
    {
     "data": {
      "text/plain": [
       "(220042253066906664051245951552803841246,\n",
       " 112015100924642732038828388697892839851)"
      ]
     },
     "execution_count": 105,
     "metadata": {},
     "output_type": "execute_result"
    }
   ],
   "source": [
    "vals['yt'][2]"
   ]
  },
  {
   "cell_type": "code",
   "execution_count": 88,
   "metadata": {},
   "outputs": [
    {
     "data": {
      "text/plain": [
       "[1, 33, 289, 293, 301]"
      ]
     },
     "execution_count": 88,
     "metadata": {},
     "output_type": "execute_result"
    }
   ],
   "source": [
    "vals['xt'][:5]"
   ]
  },
  {
   "cell_type": "code",
   "execution_count": 89,
   "metadata": {},
   "outputs": [
    {
     "data": {
      "text/plain": [
       "[(63750792713834864629903499915386397393,\n",
       "  159109009652492911218406989594187886417),\n",
       " (199080820642446984608044635752747605928,\n",
       "  46056932911115875984899410468914835401),\n",
       " (220042253066906664051245951552803841246,\n",
       "  112015100924642732038828388697892839851),\n",
       " (211438720239059828636725034839139813715,\n",
       "  36648333053180701422813911964255266605),\n",
       " (121027585899492782657100768530291490324,\n",
       "  208219100178036415155446031928015527708)]"
      ]
     },
     "execution_count": 89,
     "metadata": {},
     "output_type": "execute_result"
    }
   ],
   "source": [
    "vals['yt'][:5]"
   ]
  },
  {
   "cell_type": "code",
   "execution_count": 94,
   "metadata": {},
   "outputs": [
    {
     "data": {
      "text/plain": [
       "68435794843181999190465757400390892864"
      ]
     },
     "execution_count": 94,
     "metadata": {},
     "output_type": "execute_result"
    }
   ],
   "source": [
    "curve.mul(4, 37220200115549684379403037*(10))"
   ]
  },
  {
   "cell_type": "code",
   "execution_count": null,
   "metadata": {},
   "outputs": [],
   "source": []
  },
  {
   "cell_type": "code",
   "execution_count": null,
   "metadata": {},
   "outputs": [],
   "source": []
  },
  {
   "cell_type": "code",
   "execution_count": null,
   "metadata": {},
   "outputs": [],
   "source": []
  },
  {
   "cell_type": "code",
   "execution_count": 121,
   "metadata": {},
   "outputs": [
    {
     "data": {
      "text/plain": [
       "126093586288113073572702262413545375317"
      ]
     },
     "execution_count": 121,
     "metadata": {},
     "output_type": "execute_result"
    }
   ],
   "source": [
    "curve.add(curve.mul(4, 10), curve.mul(4, 5))"
   ]
  },
  {
   "cell_type": "code",
   "execution_count": 123,
   "metadata": {},
   "outputs": [
    {
     "data": {
      "text/plain": [
       "126093586288113073572702262413545375317"
      ]
     },
     "execution_count": 123,
     "metadata": {},
     "output_type": "execute_result"
    }
   ],
   "source": [
    "curve.mul(4, 15)"
   ]
  },
  {
   "cell_type": "code",
   "execution_count": 124,
   "metadata": {},
   "outputs": [],
   "source": [
    "p1 = curve.get_pt(curve.mul(4, 10))\n",
    "p2 = curve.get_pt(curve.mul(4, 5))"
   ]
  },
  {
   "cell_type": "code",
   "execution_count": 125,
   "metadata": {},
   "outputs": [
    {
     "data": {
      "text/plain": [
       "(159797793377092076215875994735688064194,\n",
       " 33706392402618431063346726123231729577)"
      ]
     },
     "execution_count": 125,
     "metadata": {},
     "output_type": "execute_result"
    }
   ],
   "source": [
    "curve.add_pts(p1, p2)"
   ]
  },
  {
   "cell_type": "code",
   "execution_count": 126,
   "metadata": {},
   "outputs": [
    {
     "data": {
      "text/plain": [
       "159797793377092076215875994735688064194"
      ]
     },
     "execution_count": 126,
     "metadata": {},
     "output_type": "execute_result"
    }
   ],
   "source": [
    "curve.mul(4, 5)"
   ]
  },
  {
   "cell_type": "code",
   "execution_count": null,
   "metadata": {},
   "outputs": [],
   "source": [
    "# curve.add_pts is actually subtracting? wtf"
   ]
  }
 ],
 "metadata": {
  "kernelspec": {
   "display_name": "Python 3",
   "language": "python",
   "name": "python3"
  },
  "language_info": {
   "codemirror_mode": {
    "name": "ipython",
    "version": 3
   },
   "file_extension": ".py",
   "mimetype": "text/x-python",
   "name": "python",
   "nbconvert_exporter": "python",
   "pygments_lexer": "ipython3",
   "version": "3.8.2"
  }
 },
 "nbformat": 4,
 "nbformat_minor": 4
}
