{
 "cells": [
  {
   "cell_type": "markdown",
   "metadata": {},
   "source": [
    "All quotes below are excerpted from https://toadstyle.org/cryptopals/60.txt\n",
    "\n",
    "```\n",
    "60. Single-Coordinate Ladders and Insecure Twists\n",
    "\n",
    "All our hard work is about to pay some dividends. Here's a list of\n",
    "cool-kids jargon you'll be able to deploy after completing this\n",
    "challenge:\n",
    "\n",
    "* Montgomery curve\n",
    "* single-coordinate ladder\n",
    "* isomorphism\n",
    "* birational equivalence\n",
    "* quadratic twist\n",
    "* trace of Frobenius\n",
    "\n",
    "Not that you'll understand it all; you won't. But you'll at least be\n",
    "able to silence crypto-dilettantes on Twitter.\n",
    "\n",
    "Now, to the task at hand. In the last problem, we implemented ECDH\n",
    "using a short Weierstrass curve form, like this:\n",
    "\n",
    "    y^2 = x^3 + a*x + b\n",
    "\n",
    "For a long time, this has been the most popular curve form. The NIST\n",
    "P-curves standardized in the 90s look like this. It's what you'll see\n",
    "first in most elliptic curve tutorials (including this one).\n",
    "\n",
    "We can do a lot better. Meet the Montgomery curve:\n",
    "\n",
    "    B*v^2 = u^3 + A*u^2 + u\n",
    "\n",
    "Although it's almost as old as the Weierstrass form, it's been buried\n",
    "in the literature until somewhat recently. The Montgomery curve has a\n",
    "killer feature in the form of a simple and efficient algorithm to\n",
    "compute scalar multiplication: the Montgomery ladder.\n",
    "\n",
    "Here's the ladder:\n",
    "\n",
    "    function ladder(u, k):\n",
    "        u2, w2 := (1, 0)\n",
    "        u3, w3 := (u, 1)\n",
    "        for i in reverse(range(bitlen(p))):\n",
    "            b := 1 & (k >> i)\n",
    "            u2, u3 := cswap(u2, u3, b)\n",
    "            w2, w3 := cswap(w2, w3, b)\n",
    "            u3, w3 := ((u2*u3 - w2*w3)^2,\n",
    "                       u * (u2*w3 - w2*u3)^2)\n",
    "            u2, w2 := ((u2^2 - w2^2)^2,\n",
    "                       4*u2*w2 * (u2^2 + A*u2*w2 + w2^2))\n",
    "            u2, u3 := cswap(u2, u3, b)\n",
    "            w2, w3 := cswap(w2, w3, b)\n",
    "        return u2 * w2^(p-2)\n",
    "\n",
    "You are not expected to understand this.\n",
    "```"
   ]
  },
  {
   "cell_type": "code",
   "execution_count": 148,
   "metadata": {},
   "outputs": [],
   "source": [
    "from dataclasses import dataclass\n",
    "from itertools import combinations\n",
    "from random import randrange\n",
    "from math import log, ceil\n",
    "from pprint import pprint\n",
    "\n",
    "from challenge_31 import do_sha256, hmac\n",
    "from challenge_39 import invmod\n",
    "from challenge_57 import primegen, int_to_bytes, crt\n",
    "from challenge_59 import tonelli_shanks, NoQuadraticResidueError"
   ]
  },
  {
   "cell_type": "code",
   "execution_count": 111,
   "metadata": {},
   "outputs": [],
   "source": [
    "def cswap(a, b, i):\n",
    "    # b,a if i else a,b\n",
    "    return (b, a) if i else (a, b)  # absurdly, this is faster than the arithmetic implementation in python\n",
    "    #return (b*i + a*(1-i), a*i + b*(1-i))\n",
    "\n",
    "\n",
    "@dataclass\n",
    "class MontyCurve:\n",
    "    a: int\n",
    "    b: int\n",
    "    p: int\n",
    "    \n",
    "    def mul(self, u, k):\n",
    "        a, p = self.a, self.p\n",
    "        blp = int(ceil(log(p, 2)))  # bitlength of p\n",
    "        u2, w2 = (1, 0)\n",
    "        u3, w3 = (u, 1)\n",
    "        for i in (range(blp)[::-1]):\n",
    "            b = 1 & (k >> i)\n",
    "            #u2, u3 = cswap(u2, u3, b)\n",
    "            #w2, w3 = cswap(w2, w3, b)\n",
    "            u2, u3 = (u3, u2) if b else (u2, u3)\n",
    "            w2, w3 = (w3, w2) if b else (w2, w3)\n",
    "            u3, w3 = ((u2*u3 - w2*w3)**2 % p,\n",
    "                       u * (u2*w3 - w2*u3)**2 % p)\n",
    "            u2, w2 = ((u2**2 - w2**2)**2 % p,\n",
    "                       4*u2*w2 * (u2**2 + a*u2*w2 + w2**2) % p)\n",
    "            #u2, u3 = cswap(u2, u3, b)\n",
    "            #w2, w3 = cswap(w2, w3, b)\n",
    "            u2, u3 = (u3, u2) if b else (u2, u3)\n",
    "            w2, w3 = (w3, w2) if b else (w2, w3)\n",
    "        return (u2 * pow(w2, p-2, p)) % p\n",
    "\n",
    "\n",
    "\n",
    "# ==== Profiling ====\n",
    "# %timeit get_extra_coeffs()\n",
    "# for 3 different implementations of MontyCurve.mul:\n",
    "# 2.87 s ± 66.4 ms per loop (mean ± std. dev. of 7 runs, 1 loop each)  cswap function (branching)\n",
    "# 2.68 s ± 64.2 ms per loop (mean ± std. dev. of 7 runs, 1 loop each)  cswap inlined (branching)\n",
    "# 3.14 s ± 33.8 ms per loop (mean ± std. dev. of 7 runs, 1 loop each)  cswap inlined (arithmetic)"
   ]
  },
  {
   "cell_type": "markdown",
   "metadata": {},
   "source": [
    "```\n",
    "Go ahead and implement the ladder. Remember that all computations are\n",
    "in GF(233970423115425145524320034830162017933).\n",
    "\n",
    "Oh yeah, the curve parameters. You might be thinking that since we're\n",
    "switching to a new curve format, we also need to pick out a whole new\n",
    "curve. But you'd be totally wrong! It turns out that some short\n",
    "Weierstrass curves can be converted into Montgomery curves.\n",
    "\n",
    "You can perform this conversion algebraically. But it's kind of a\n",
    "pain, so here you go:\n",
    "\n",
    "    v^2 = u^3 + 534*u^2 + u\n",
    "\n",
    "Through cunning and foresight, I have chosen this curve specifically\n",
    "to have a really simple map between Weierstrass and Montgomery\n",
    "forms. Here it is:\n",
    "\n",
    "    u = x - 178\n",
    "    v = y\n",
    "\n",
    "Which makes our base point:\n",
    "\n",
    "    (4, 85518893674295321206118380980485522083)\n",
    "\n",
    "Or, you know. Just 4.\n",
    "\n",
    "Anyway, implement the ladder. Verify ladder(4, n) = 0. Map some points\n",
    "back and forth between your Weierstrass and Montgomery representations\n",
    "and verify them.\n",
    "```"
   ]
  },
  {
   "cell_type": "code",
   "execution_count": 112,
   "metadata": {},
   "outputs": [],
   "source": [
    "curve = MontyCurve(a=534, b=1, p=233970423115425145524320034830162017933)\n",
    "order = 233970423115425145498902418297807005944  # value copied from 59.txt\n",
    "\n",
    "assert curve.mul(4, order) == 0"
   ]
  },
  {
   "cell_type": "code",
   "execution_count": 4,
   "metadata": {},
   "outputs": [],
   "source": [
    "from challenge_59 import Curve as WeierCurve\n",
    "w_curve = WeierCurve(a=-95051, b=11279326, p=233970423115425145524320034830162017933)\n",
    "w_base = (182, 85518893674295321206118380980485522083)"
   ]
  },
  {
   "cell_type": "code",
   "execution_count": 5,
   "metadata": {},
   "outputs": [
    {
     "name": "stdout",
     "output_type": "stream",
     "text": [
      "All good!\n"
     ]
    }
   ],
   "source": [
    "def to_monty(pt):\n",
    "    if pt is w_curve.zero:\n",
    "        return 0\n",
    "    x = pt[0]\n",
    "    return x - 178\n",
    "\n",
    "\n",
    "def to_weier(u):\n",
    "    if u == 0:\n",
    "        return w_curve.zero\n",
    "    p, a = curve.p, curve.a\n",
    "    v1, v2 = tonelli_shanks(\n",
    "        (pow(u, 3, p) + a*pow(u, 2, p) + u),\n",
    "        p\n",
    "    )\n",
    "    return (u + 178, v1), (u + 178, v2)  # two possibilities\n",
    "\n",
    "\n",
    "def test_monty_weier_conversion():\n",
    "    assert to_monty(w_base) == 4\n",
    "    \n",
    "    for _ in range(50):\n",
    "        i = randrange(0, 10000)\n",
    "        w = w_curve.mul(w_base, i)\n",
    "        m = curve.mul(4, i)\n",
    "        \n",
    "        assert to_monty(w) == m\n",
    "        assert w in to_weier(m)\n",
    "        \n",
    "    print(\"All good!\", flush=True)\n",
    "\n",
    "test_monty_weier_conversion()"
   ]
  },
  {
   "cell_type": "markdown",
   "metadata": {},
   "source": [
    "---\n",
    "```\n",
    "One nice thing about the Montgomery ladder is its lack of special\n",
    "cases. Specifically, no special handling of: P1 = O; P2 = O; P1 = P2;\n",
    "or P1 = -P2. Contrast that with our Weierstrass addition function and\n",
    "its battalion of ifs.\n",
    "\n",
    "And there's a security benefit, too: by ignoring the v coordinate, we\n",
    "take away a lot of leeway from the attacker. Recall that the ability\n",
    "to choose arbitrary (x, y) pairs let them cherry-pick points from any\n",
    "curve they can think of. The single-coordinate ladder robs the\n",
    "attacker of that freedom.\n",
    "\n",
    "But hang on a tick! Give this a whirl:\n",
    "\n",
    "    ladder(76600469441198017145391791613091732004, 11)\n",
    "```"
   ]
  },
  {
   "cell_type": "code",
   "execution_count": 6,
   "metadata": {},
   "outputs": [
    {
     "data": {
      "text/plain": [
       "0"
      ]
     },
     "execution_count": 6,
     "metadata": {},
     "output_type": "execute_result"
    }
   ],
   "source": [
    "u = 76600469441198017145391791613091732004\n",
    "curve.mul(u, 11)"
   ]
  },
  {
   "cell_type": "markdown",
   "metadata": {},
   "source": [
    "---\n",
    "```\n",
    "What the heck? What's going on here?\n",
    "\n",
    "Let's do a quick sanity check. Here's the curve equation again:\n",
    "\n",
    "    v^2 = u^3 + 534*u^2 + u\n",
    "\n",
    "Plug in u and take the square root to recover v.\n",
    "```"
   ]
  },
  {
   "cell_type": "code",
   "execution_count": 7,
   "metadata": {},
   "outputs": [
    {
     "name": "stdout",
     "output_type": "stream",
     "text": [
      "ERROR: Square root of 76600469441198017145391791613091732004 does not exist!\n"
     ]
    }
   ],
   "source": [
    "def u_to_v(u, curve=curve):\n",
    "    p = curve.p\n",
    "    v_sq = (u**3 + curve.a * u**2 + u) % p\n",
    "    return tonelli_shanks(v_sq, p)\n",
    "\n",
    "try:\n",
    "    u_to_v(u)\n",
    "except NoQuadraticResidueError:\n",
    "    print(\"ERROR: Square root of\", u, \"does not exist!\")"
   ]
  },
  {
   "cell_type": "markdown",
   "metadata": {},
   "source": [
    "---\n",
    "```\n",
    "You should detect that something is quite wrong. This u does not\n",
    "represent a point on our curve! Not every u does.\n",
    "\n",
    "This means that even though we can only submit one coordinate, we\n",
    "still have a little bit of leeway to find invalid\n",
    "points. Specifically, an input u such that u^3 + 534*u^2 + u is not a\n",
    "quadratic residue can never represent a point on our curve. So where\n",
    "the heck are we?\n",
    "\n",
    "The other curve we're on is a sister curve called a \"quadratic twist\",\n",
    "or simply \"the twist\". There is actually a whole family of quadratic\n",
    "twists to our curve, but they're all isomorphic to each\n",
    "other. Remember that that means they have the same number of points,\n",
    "the same subgroups, etc. So it doesn't really matter which particular\n",
    "twist we use; in fact, we don't even need to pick one.\n",
    "\n",
    "...\n",
    "\n",
    "If Alice chose a curve with an insecure twist, i.e. one with a\n",
    "partially smooth order, then some doors open back up for Eve. She can\n",
    "choose low-order points on the twisted curve, send them to Alice, and\n",
    "perform the invalid-curve attack as before.\n",
    "\n",
    "The only caveat is that she won't be able to recover the full secret\n",
    "using off-curve points, only a fraction of it. But we know how to\n",
    "handle that.\n",
    "\n",
    "So:\n",
    "\n",
    "1. Calculate the order of the twist and find its small factors. This\n",
    "   one should have a bunch under 2^24.\n",
    "```"
   ]
  },
  {
   "cell_type": "code",
   "execution_count": 8,
   "metadata": {},
   "outputs": [
    {
     "name": "stdout",
     "output_type": "stream",
     "text": [
      "Twist's order: 233970423115425145549737651362517029924\n",
      "Factoring...\n",
      "Small, non-repeated factors: [11, 107, 197, 1621, 105143, 405373, 2323367]\n"
     ]
    }
   ],
   "source": [
    "# The ordinary curve and its twist have 2*p + 2 points between them.\n",
    "# The curve's order is known, so we can take the difference to find the twist's order:\n",
    "twist_order = 2*curve.p + 2 - order\n",
    "\n",
    "print(\"Twist's order:\", twist_order)\n",
    "print(\"Factoring...\")\n",
    "%time factors = [p for p in primegen(up_to=2**24) if twist_order % p == 0 and (twist_order // p) % p != 0]\n",
    "print(\"Small, non-repeated factors:\", factors)"
   ]
  },
  {
   "cell_type": "markdown",
   "metadata": {},
   "source": [
    "----\n",
    "```\n",
    "2. Find points with those orders. This is simple:\n",
    "\n",
    "   a. Choose a random u mod p and verify that u^3 + A*u^2 + u is a\n",
    "      nonsquare in GF(p).\n",
    "\n",
    "   b. Call the order of the twist n. To find an element of order q,\n",
    "      calculate ladder(u, n/q).\n",
    "```"
   ]
  },
  {
   "cell_type": "code",
   "execution_count": 9,
   "metadata": {},
   "outputs": [
    {
     "name": "stdout",
     "output_type": "stream",
     "text": [
      "{11: 105888069003703096891937904030103459645,\n",
      " 107: 232784264231402442109051618948138095864,\n",
      " 197: 4809650968340552704772177512072571923,\n",
      " 1621: 70782733606194749784487348130521439533,\n",
      " 105143: 18205162903737310491909882733161523543,\n",
      " 405373: 96985955565507758684441919626600641905,\n",
      " 2323367: 152304473698859030858339554113356746138}\n",
      "\n",
      "Here's the order-11 twist subgroup we found:\n",
      "0\n",
      "105888069003703096891937904030103459645\n",
      "1430388126279164727092494211327512206\n",
      "76600469441198017145391791613091732004\n",
      "4612483201341222105440076661179035958\n",
      "173527332646559565669040569905840307859\n",
      "173527332646559565669040569905840307859\n",
      "4612483201341222105440076661179035958\n",
      "76600469441198017145391791613091732004\n",
      "1430388126279164727092494211327512206\n",
      "105888069003703096891937904030103459645\n",
      "0\n",
      "105888069003703096891937904030103459645\n",
      "...\n",
      "\n"
     ]
    }
   ],
   "source": [
    "# encapsulate this search in a function to avoid cluttering the top level namespace with temp variables\n",
    "def get_twist_point(fac):\n",
    "    p = curve.p\n",
    "    ladder = curve.mul\n",
    "\n",
    "    while True:\n",
    "        u = randrange(0, p)\n",
    "        expr = (pow(u, 3, curve.p) + curve.a*pow(u, 2, p) + u) % curve.p\n",
    "        try:\n",
    "            tonelli_shanks(expr, p)\n",
    "        except NoQuadraticResidueError: pass\n",
    "        else: continue\n",
    "        elem = ladder(u, twist_order // fac)\n",
    "        if elem != 0:\n",
    "            break\n",
    "\n",
    "    assert twist_order % fac == 0\n",
    "    assert ladder(elem, fac) == 0\n",
    "\n",
    "    return elem\n",
    "\n",
    "twist_points = {fac: get_twist_point(fac) for fac in factors}\n",
    "pprint(twist_points)\n",
    "\n",
    "print(\"\\nHere's the order-11 twist subgroup we found:\")\n",
    "for i in range(13):\n",
    "    print(curve.mul(twist_points[11], i))\n",
    "print(\"...\\n\")\n",
    "\n",
    "# note how all the i'th and 11-i'th elements are equal\n",
    "# this is the cause of the 'combinatorial explosion' alluded to at the end of 60.txt\n",
    "# we can probably get some \"easy\" wins by taking additional residues mod eg 11*107, 11*197, ...\n",
    "# this would reduce our final search's work factor by a factor of 2, at the cost of some precomputation\n",
    "# we'll see diminishing returns as the precomputation starts to involve larger subgroups and gets more expensive\n",
    "# thus, this becomes an optimization problem - but i'm getting ahead of myself here\n",
    "# we'll have to work through some more preliminaries before we get to work on solving that problem"
   ]
  },
  {
   "cell_type": "markdown",
   "metadata": {},
   "source": [
    "---\n",
    "```\n",
    "3. Send these points to Alice to recover portions of her secret.\n",
    "```"
   ]
  },
  {
   "cell_type": "code",
   "execution_count": 10,
   "metadata": {},
   "outputs": [
    {
     "name": "stdout",
     "output_type": "stream",
     "text": [
      "DEBUG: Private key = 217127450270066099617232436535682564139\n",
      "Alice initialized. Pubkey: 150460403881749324846754032855571228541\n"
     ]
    }
   ],
   "source": [
    "# implementation of Alice here is modeled on challenge 58's Bob\n",
    "# cf that block's comments\n",
    "\n",
    "def alice_coro(message):\n",
    "    p, mul = curve.p, curve.mul\n",
    "    priv = randrange(0, p)\n",
    "    print(\"DEBUG: Private key =\", priv)\n",
    "    pub = mul(4, priv)  # remember - 4 is our Montgomery curve's generator\n",
    "\n",
    "    h = (yield pub)\n",
    "    while True:\n",
    "        secret = mul(h, priv)\n",
    "        K = do_sha256(int_to_bytes(secret))\n",
    "        t = hmac(K, message)\n",
    "        h = (yield (message, t))\n",
    "\n",
    "alice = alice_coro(b\"no alarms and no surprises\")\n",
    "alice_pubkey = next(alice)\n",
    "print(\"Alice initialized. Pubkey:\", alice_pubkey)"
   ]
  },
  {
   "cell_type": "code",
   "execution_count": 11,
   "metadata": {},
   "outputs": [],
   "source": [
    "def recover_coefficient(g, order, message, t):\n",
    "    ladder = curve.mul\n",
    "    for i in range(order):\n",
    "        guess = ladder(g, i)\n",
    "        K = do_sha256(int_to_bytes(guess))\n",
    "        tag = hmac(K, message)\n",
    "        if tag == t:\n",
    "            return (i, order-i)\n",
    "    print(\"coefficient not found (?!)\")\n",
    "    raise Exception(\"this should never happen\")"
   ]
  },
  {
   "cell_type": "code",
   "execution_count": 128,
   "metadata": {},
   "outputs": [
    {
     "name": "stdout",
     "output_type": "stream",
     "text": [
      "This step may take a while.\n",
      "\n",
      "Recovering residue mod 11 ...\n",
      "CPU times: user 909 µs, sys: 0 ns, total: 909 µs\n",
      "Wall time: 943 µs\n",
      "\n",
      "Recovering residue mod 107 ...\n",
      "CPU times: user 9.08 ms, sys: 0 ns, total: 9.08 ms\n",
      "Wall time: 10.3 ms\n",
      "\n",
      "Recovering residue mod 197 ...\n",
      "CPU times: user 3.69 ms, sys: 0 ns, total: 3.69 ms\n",
      "Wall time: 3.75 ms\n",
      "\n",
      "Recovering residue mod 1621 ...\n",
      "CPU times: user 367 ms, sys: 1.86 ms, total: 369 ms\n",
      "Wall time: 385 ms\n",
      "\n",
      "Recovering residue mod 105143 ...\n",
      "CPU times: user 22.9 s, sys: 1.85 ms, total: 22.9 s\n",
      "Wall time: 23.2 s\n",
      "\n",
      "Recovering residue mod 405373 ...\n",
      "CPU times: user 13 s, sys: 0 ns, total: 13 s\n",
      "Wall time: 13.2 s\n",
      "\n",
      "Recovering residue mod 2323367 ...\n",
      "CPU times: user 8min 28s, sys: 51.5 ms, total: 8min 29s\n",
      "Wall time: 8min 36s\n",
      "Done!\n",
      "\n",
      "{11: (1, 10),\n",
      " 107: (17, 90),\n",
      " 197: (7, 190),\n",
      " 1621: (651, 970),\n",
      " 105143: (46247, 58896),\n",
      " 405373: (26839, 378534),\n",
      " 2323367: (956882, 1366485)}\n"
     ]
    }
   ],
   "source": [
    "coeffs = {}\n",
    "\n",
    "print(\"This step may take a while.\")\n",
    "for small_order, small_pt in twist_points.items():\n",
    "    print(\"\\nRecovering possible residues mod\", small_order, \"...\", flush=True)\n",
    "    message, t = alice.send(small_pt)\n",
    "    %time i1, i2 = recover_coefficient(small_pt, small_order, message, t)\n",
    "    coeffs[small_order] = i1, i2\n",
    "\n",
    "print(\"Done!\\n\")\n",
    "pprint(coeffs)"
   ]
  },
  {
   "cell_type": "code",
   "execution_count": 120,
   "metadata": {},
   "outputs": [
    {
     "name": "stdout",
     "output_type": "stream",
     "text": [
      "Recovering possible residues mod 11*107\n",
      "Recovering possible residues mod 11*197\n",
      "Recovering possible residues mod 11*1621\n",
      "Recovering possible residues mod 11*105143\n",
      "Done!\n",
      "\n",
      "CPU times: user 2min 21s, sys: 11.3 ms, total: 2min 21s\n",
      "Wall time: 2min 23s\n",
      "{(11, 107): (197, 980),\n",
      " (11, 197): (978, 1189),\n",
      " (11, 1621): (4212, 13619),\n",
      " (11, 105143): (269182, 887391)}\n"
     ]
    }
   ],
   "source": [
    "# Let's make like a tree and generate some more residues :)\n",
    "\n",
    "\n",
    "def get_extra_coeffs():\n",
    "    extra_coeffs = {}\n",
    "    #for p1, p2 in combinations(factors[:4], 2):\n",
    "    p1 = factors[0]\n",
    "    for p2 in factors[1:5]:\n",
    "        print(f\"Recovering possible residues mod {p1}*{p2}\", flush=True)\n",
    "        o = p1*p2\n",
    "        while True:\n",
    "            pt = get_twist_point(o)\n",
    "            # make sure pt has order p1*p2, not order p1 or p2\n",
    "            if curve.mul(pt, p1) != 0 and curve.mul(pt, p2) != 0:\n",
    "                break\n",
    "        i1, i2 = recover_coefficient(pt, o, *alice.send(pt))\n",
    "        extra_coeffs[p1, p2] = i1, i2\n",
    "    print(\"Done!\\n\")\n",
    "    return extra_coeffs\n",
    "\n",
    "# we've just \"cheated\" a bit by bringing in some data that we only know after evaluating the above cells\n",
    "# this data is the index `5` in `for p2 in factors[1:5]`\n",
    "# (which I chose only after inspecting the list of factors to determine an appropriate cutoff point)\n",
    "\n",
    "# so yes - this attack isn't 100% automated\n",
    "# it could be automated at the cost of a little work and some added complexity\n",
    "# but you're not paying me enough for that - yet :)\n",
    "\n",
    "%time extra_coeffs = get_extra_coeffs()\n",
    "pprint(extra_coeffs)"
   ]
  },
  {
   "cell_type": "code",
   "execution_count": 141,
   "metadata": {},
   "outputs": [
    {
     "name": "stdout",
     "output_type": "stream",
     "text": [
      "[[(1, 17), (10, 90)],\n",
      " [(1, 7), (10, 190)],\n",
      " [(1, 651), (10, 970)],\n",
      " [(1, 58896), (10, 46247)]]\n",
      "\n",
      "(1, 17, 7, 651, 58896)\n",
      "(10, 90, 190, 970, 46247)\n"
     ]
    }
   ],
   "source": [
    "residue_pairs = []\n",
    "\n",
    "for t1, t2 in extra_coeffs.items():\n",
    "    p1, p2 = t1\n",
    "    r1, r2 = t2\n",
    "    pairs = (r1%p1, r1%p2), (r2%p1, r2%p2)\n",
    "    residue_pairs.append(sorted(pairs))\n",
    "\n",
    "res_seq_1 = (coeffs[11][0],) + tuple(t[0][1] for t in residue_pairs)\n",
    "res_seq_2 = (coeffs[11][1],) + tuple(t[1][1] for t in residue_pairs)\n",
    "\n",
    "pprint(residue_pairs)\n",
    "print()\n",
    "print(res_seq_1)\n",
    "print(res_seq_2)"
   ]
  },
  {
   "cell_type": "code",
   "execution_count": 147,
   "metadata": {},
   "outputs": [
    {
     "name": "stdout",
     "output_type": "stream",
     "text": [
      "8 possible combinations of residues (down from 128)\n"
     ]
    }
   ],
   "source": [
    "def possible_residues():\n",
    "    # yields lists of possible (i.e. internally consistent) combinations of residue values\n",
    "    # this is another place where we \"cheat\" a little by using results from earlier in the notebook\n",
    "    # it's not really necessary here; it just helps keep the code terse\n",
    "    for r1 in coeffs[405373]:\n",
    "        for r2 in coeffs[2323367]:\n",
    "            t = (r1, r2)\n",
    "            yield res_seq_1 + t\n",
    "            yield res_seq_2 + t\n",
    "\n",
    "print(len(tuple(possible_residues())), \"possible combinations of residues (down from 128)\")"
   ]
  },
  {
   "cell_type": "code",
   "execution_count": 149,
   "metadata": {},
   "outputs": [
    {
     "name": "stdout",
     "output_type": "stream",
     "text": [
      "Guess: 27371474982420709302617654 mod 37220200115549684379403037\n",
      "Guess: 30195693567363723420087351 mod 37220200115549684379403037\n",
      "Guess: 18519464853909645531783472 mod 37220200115549684379403037\n",
      "Guess: 21343683438852659649253169 mod 37220200115549684379403037\n",
      "Guess: 15876516676697024730149868 mod 37220200115549684379403037\n",
      "Guess: 18700735261640038847619565 mod 37220200115549684379403037\n",
      "Guess: 7024506548185960959315686 mod 37220200115549684379403037\n",
      "Guess: 9848725133128975076785383 mod 37220200115549684379403037\n"
     ]
    }
   ],
   "source": [
    "# ok it's go time\n",
    "\n",
    "for residues in possible_residues():\n",
    "    residue, modulus = crt(residues, factors)\n",
    "    print(\"Guess:\", residue, \"mod\", modulus)"
   ]
  },
  {
   "cell_type": "code",
   "execution_count": 150,
   "metadata": {},
   "outputs": [
    {
     "data": {
      "text/plain": [
       "30195693567363723420087351"
      ]
     },
     "execution_count": 150,
     "metadata": {},
     "output_type": "execute_result"
    }
   ],
   "source": [
    "217127450270066099617232436535682564139 % 37220200115549684379403037"
   ]
  },
  {
   "cell_type": "code",
   "execution_count": null,
   "metadata": {},
   "outputs": [],
   "source": []
  }
 ],
 "metadata": {
  "kernelspec": {
   "display_name": "Python 3",
   "language": "python",
   "name": "python3"
  },
  "language_info": {
   "codemirror_mode": {
    "name": "ipython",
    "version": 3
   },
   "file_extension": ".py",
   "mimetype": "text/x-python",
   "name": "python",
   "nbconvert_exporter": "python",
   "pygments_lexer": "ipython3",
   "version": "3.7.3"
  }
 },
 "nbformat": 4,
 "nbformat_minor": 4
}
