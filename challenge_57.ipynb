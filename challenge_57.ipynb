{
 "cells": [
  {
   "cell_type": "markdown",
   "metadata": {},
   "source": [
    "## All challenge text is excerpted from https://toadstyle.org/cryptopals/57.txt"
   ]
  },
  {
   "cell_type": "markdown",
   "metadata": {},
   "source": [
    "```\n",
    "// ------------------------------------------------------------\n",
    "\n",
    "57. Diffie-Hellman Revisited: Subgroup-Confinement Attacks\n",
    "\n",
    "This set is going to focus on elliptic curves. But before we get to\n",
    "that, we're going to kick things off with some classic Diffie-Hellman.\n",
    "\n",
    "Trust me, it's gonna make sense later.\n",
    "\n",
    "Let's get right into it. First, build your typical Diffie-Hellman key\n",
    "agreement: Alice and Bob exchange public keys and derive the same\n",
    "shared secret. Then Bob sends Alice some message with a MAC over\n",
    "it. Easy as pie.\n",
    "\n",
    "Use these parameters:\n",
    "\n",
    "    p = 7199773997391911030609999317773941274322764333428698921736339643928346453700085358802973900485592910475480089726140708102474957429903531369589969318716771\n",
    "    g = 4565356397095740655436854503483826832136106141639563487732438195343690437606117828318042418238184896212352329118608100083187535033402010599512641674644143\n",
    "\n",
    "The generator g has order q:\n",
    "\n",
    "    q = 236234353446506858198510045061214171961\n",
    "\n",
    "\"Order\" is a new word, but it just means g^q = 1 mod p. You might\n",
    "notice that q is a prime, just like p. This isn't mere chance: in\n",
    "fact, we chose q and p together such that q divides p-1 (the order or\n",
    "size of the group itself) evenly. This guarantees that an element g of\n",
    "order q will exist. (In fact, there will be q-1 such elements.)\n",
    "\n",
    "Back to the protocol. Alice and Bob should choose their secret keys as\n",
    "random integers mod q. There's no point in choosing them mod p; since\n",
    "g has order q, the numbers will just start repeating after that. You\n",
    "can prove this to yourself by verifying g^x mod p = g^(x + k*q) mod p\n",
    "for any x and k.\n",
    "\n",
    "The rest is the same as before.\n",
    "```"
   ]
  },
  {
   "cell_type": "code",
   "execution_count": 1,
   "metadata": {},
   "outputs": [],
   "source": [
    "from itertools import chain, count\n",
    "from functools import reduce\n",
    "from operator import mul\n",
    "from random import randrange\n",
    "from math import log\n",
    "\n",
    "from challenge_31 import do_sha256, hmac\n",
    "from challenge_39 import egcd"
   ]
  },
  {
   "cell_type": "code",
   "execution_count": 2,
   "metadata": {},
   "outputs": [],
   "source": [
    "p = 7199773997391911030609999317773941274322764333428698921736339643928346453700085358802973900485592910475480089726140708102474957429903531369589969318716771\n",
    "g = 4565356397095740655436854503483826832136106141639563487732438195343690437606117828318042418238184896212352329118608100083187535033402010599512641674644143\n",
    "q = 236234353446506858198510045061214171961"
   ]
  },
  {
   "cell_type": "code",
   "execution_count": 3,
   "metadata": {},
   "outputs": [
    {
     "name": "stdout",
     "output_type": "stream",
     "text": [
      "int_to_bytes(): OK\n"
     ]
    }
   ],
   "source": [
    "def int_to_bytes(n):\n",
    "    return n.to_bytes(64, 'big')\n",
    "\n",
    "assert log(p, 2) < 64*8  # correctness check: ensure that our inputs to int_to_bytes() will fit into 64 bytes\n",
    "assert int_to_bytes(17) == b'\\x00'*63 + b'\\x11'\n",
    "print(\"int_to_bytes(): OK\")"
   ]
  },
  {
   "cell_type": "code",
   "execution_count": 4,
   "metadata": {},
   "outputs": [
    {
     "name": "stdout",
     "output_type": "stream",
     "text": [
      "primegen(): OK\n"
     ]
    }
   ],
   "source": [
    "def primegen(up_to=None):\n",
    "    yield 2\n",
    "    d = {}\n",
    "    counter = count(3, 2) if up_to is None else range(3, up_to, 2)\n",
    "    for i in counter:\n",
    "        l = d.pop(i, None)\n",
    "        if l:\n",
    "            for n in l:\n",
    "                d.setdefault(i+(2*n), []).append(n)\n",
    "            continue\n",
    "        yield i\n",
    "        d.setdefault(3*i, []).append(i)\n",
    "\n",
    "assert all(p == q for p, q in zip(primegen(), [2, 3, 5, 7, 11, 13, 17, 19, 23, 29, 31, 37, 41, 43, 47]))\n",
    "print(\"primegen(): OK\")"
   ]
  },
  {
   "cell_type": "code",
   "execution_count": 5,
   "metadata": {
    "scrolled": true
   },
   "outputs": [
    {
     "name": "stdout",
     "output_type": "stream",
     "text": [
      "Bob: Private key = 41677195427755180666458775778041397189\n"
     ]
    }
   ],
   "source": [
    "# We'll implement Bob as a coroutine. Our attack code will end up functioning as Alice.\n",
    "\n",
    "def bob_coro(message):\n",
    "    \"\"\"Takes Diffie-Hellman public keys as inputs and yields (message, mac) pairs.\"\"\"\n",
    "    x = randrange(0, q)\n",
    "    x_pub = pow(g, x, p)  # public key - only yielded, not used\n",
    "    print(\"Bob: Private key =\", x)\n",
    "\n",
    "    h = (yield x_pub)\n",
    "    while True:\n",
    "        secret = int_to_bytes(pow(h, x, p))\n",
    "        K = do_sha256(secret)\n",
    "        t = hmac(K, message)\n",
    "        h = (yield (message, t))\n",
    "\n",
    "\n",
    "bob = bob_coro(b\"crazy flamboyant for the rap enjoyment\")\n",
    "bob_pub = next(bob)  # prints private key for reference; returns public key"
   ]
  },
  {
   "cell_type": "markdown",
   "metadata": {},
   "source": [
    "```\n",
    "How can we attack this protocol? Remember what we said before about\n",
    "order: the fact that q divides p-1 guarantees the existence of\n",
    "elements of order q. What if there are smaller divisors of p-1?\n",
    "\n",
    "Spoiler alert: there are. I chose j = (p-1) / q to have many small\n",
    "factors because I want you to be happy. Find them by factoring j,\n",
    "which is:\n",
    "\n",
    "    j = 30477252323177606811760882179058908038824640750610513771646768011063128035873508507547741559514324673960576895059570\n",
    "\n",
    "You don't need to factor it all the way. Just find a bunch of factors\n",
    "smaller than, say, 2^16. There should be plenty. (Friendly tip: maybe\n",
    "avoid any repeated factors. They only complicate things.)\n",
    "```"
   ]
  },
  {
   "cell_type": "code",
   "execution_count": 6,
   "metadata": {},
   "outputs": [
    {
     "data": {
      "text/plain": [
       "[2, 5, 109, 7963, 8539, 20641, 38833, 39341, 46337, 51977, 54319, 57529]"
      ]
     },
     "execution_count": 6,
     "metadata": {},
     "output_type": "execute_result"
    }
   ],
   "source": [
    "# gather small nonrepeated factors of j\n",
    "j = 30477252323177606811760882179058908038824640750610513771646768011063128035873508507547741559514324673960576895059570\n",
    "j_factors = [p for p in primegen(up_to=2**16) if j % p == 0 and (j // p) % p != 0]\n",
    "\n",
    "assert reduce(mul, j_factors, 1) > q  # make sure we have enough factors for the chinese remainder theorem\n",
    "\n",
    "j_factors"
   ]
  },
  {
   "cell_type": "markdown",
   "metadata": {},
   "source": [
    "```\n",
    "Got 'em? Good. Now, we can use these to recover Bob's secret key using\n",
    "the Pohlig-Hellman algorithm for discrete logarithms. Here's how:\n",
    "\n",
    "1. Take one of the small factors j. Call it r. We want to find an\n",
    "   element h of order r. To find it, do:\n",
    "\n",
    "       h := rand(1, p)^((p-1)/r) mod p\n",
    "\n",
    "   If h = 1, try again.\n",
    "\n",
    "2. You're Eve. Send Bob h as your public key. Note that h is not a\n",
    "   valid public key! There is no x such that h = g^x mod p. But Bob\n",
    "   doesn't know that.\n",
    "\n",
    "3. Bob will compute:\n",
    "\n",
    "       K := h^x mod p\n",
    "\n",
    "   Where x is his secret key and K is the output shared secret. Bob\n",
    "   then sends back (m, t), with:\n",
    "\n",
    "       m := \"crazy flamboyant for the rap enjoyment\"\n",
    "       t := MAC(K, m)\n",
    "\n",
    "4. We (Eve) can't compute K, because h isn't actually a valid public\n",
    "   key. But we're not licked yet.\n",
    "\n",
    "   Remember how we saw that g^x starts repeating when x > q? h has the\n",
    "   same property with r. This means there are only r possible values\n",
    "   of K that Bob could have generated. We can recover K by doing a\n",
    "   brute-force search over these values until t = MAC(K, m).\n",
    "\n",
    "   Now we know Bob's secret key x mod r.\n",
    "\n",
    "5. Repeat steps 1 through 4 many times. Eventually you will know:\n",
    "\n",
    "       x = b1 mod r1\n",
    "       x = b2 mod r2\n",
    "       x = b3 mod r3\n",
    "       ...\n",
    "\n",
    "   Once (r1*r2*...*rn) > q, you'll have enough information to\n",
    "   reassemble Bob's secret key using the Chinese Remainder Theorem.\n",
    "```"
   ]
  },
  {
   "cell_type": "code",
   "execution_count": 7,
   "metadata": {},
   "outputs": [
    {
     "name": "stdout",
     "output_type": "stream",
     "text": [
      "r = 2 ... Done.\n",
      "r = 5 ... Done.\n",
      "r = 109 ... Done.\n",
      "r = 7963 ... Done.\n",
      "r = 8539 ... Done.\n",
      "r = 20641 ... Done.\n",
      "r = 38833 ... Done.\n",
      "r = 39341 ... Done.\n",
      "r = 46337 ... Done.\n",
      "r = 51977 ... Done.\n",
      "r = 54319 ... Done.\n",
      "r = 57529 ... Done.\n"
     ]
    }
   ],
   "source": [
    "def find_int_of_order_r(r, p):  # helper function for step 1\n",
    "    while True:\n",
    "        h = pow(randrange(2, p), (p-1)//r, p)\n",
    "        if h != 1:\n",
    "            assert pow(h, r, p) == 1\n",
    "            return h\n",
    "\n",
    "def get_residue(target, r, p, quiet=True):\n",
    "    if not quiet: print(end=f\"r = {r} ... \", flush=True)\n",
    "\n",
    "    # step 1: randomly search the group for an element h of order r\n",
    "    h = find_int_of_order_r(r, p)\n",
    "    while True:\n",
    "        h = pow(randrange(2, p), (p-1)//r, p)\n",
    "        if h != 1:\n",
    "            assert pow(h, r, p) == 1\n",
    "            break\n",
    "\n",
    "    # steps 2 and 3: send h, get back a message mac'd by our \"shared secret\"\n",
    "    message, t = target.send(h)\n",
    "\n",
    "    # step 4: recover bob's session secret from t\n",
    "    for i in range(r):\n",
    "        secret = int_to_bytes(pow(h, i, p))\n",
    "        K = do_sha256(secret)\n",
    "        if hmac(K, message) == t:\n",
    "            break\n",
    "\n",
    "    if not quiet: print(\"Done.\")\n",
    "    return i\n",
    "\n",
    "# step 5: collect residues of bob's private key\n",
    "residues = [get_residue(bob, r, p, quiet=False) for r in j_factors]"
   ]
  },
  {
   "cell_type": "code",
   "execution_count": 8,
   "metadata": {},
   "outputs": [
    {
     "name": "stdout",
     "output_type": "stream",
     "text": [
      "Recovered Bob's private key: 41677195427755180666458775778041397189\n",
      "\n",
      "Bob's public key (derived): 6446650910304953078833171190209883203654010875956642140771278121315739653984267855927900852707437865043904079103198714796716970841872547137169245209535516\n",
      "Bob's public key (actual):  6446650910304953078833171190209883203654010875956642140771278121315739653984267855927900852707437865043904079103198714796716970841872547137169245209535516\n",
      "\n",
      "It worked!\n"
     ]
    }
   ],
   "source": [
    "# apply the Chinese Remainder Theorem to recover bob's private key\n",
    "\n",
    "def mini_crt(a1, n1, a2, n2):\n",
    "    m1, m2 = egcd(n1, n2)[1:]\n",
    "    assert m1*n1 + m2*n2 == 1\n",
    "    a3 = a1*m2*n2 + a2*m1*n1\n",
    "    n3 = n1*n2\n",
    "    return (a3 % n3, n3)\n",
    "\n",
    "def crt(residues, moduli):\n",
    "    result = (residues[0], moduli[0])\n",
    "    for t in zip(residues[1:], moduli[1:]):\n",
    "        result = mini_crt(*result, *t)\n",
    "    return result\n",
    "\n",
    "\n",
    "x, m = crt(residues, j_factors)\n",
    "assert m > q\n",
    "bob_pub_derived = pow(g, x, p)\n",
    "print(\"Recovered Bob's private key:\", x)\n",
    "print()\n",
    "print(\"Bob's public key (derived):\", bob_pub_derived)\n",
    "print(\"Bob's public key (actual): \", bob_pub)\n",
    "assert bob_pub_derived == bob_pub\n",
    "print()\n",
    "print(\"It worked!\")"
   ]
  },
  {
   "cell_type": "code",
   "execution_count": null,
   "metadata": {},
   "outputs": [],
   "source": []
  }
 ],
 "metadata": {
  "kernelspec": {
   "display_name": "Python 3",
   "language": "python",
   "name": "python3"
  },
  "language_info": {
   "codemirror_mode": {
    "name": "ipython",
    "version": 3
   },
   "file_extension": ".py",
   "mimetype": "text/x-python",
   "name": "python",
   "nbconvert_exporter": "python",
   "pygments_lexer": "ipython3",
   "version": "3.8.9"
  }
 },
 "nbformat": 4,
 "nbformat_minor": 4
}
