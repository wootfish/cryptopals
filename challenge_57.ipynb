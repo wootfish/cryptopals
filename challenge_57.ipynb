{
 "cells": [
  {
   "cell_type": "markdown",
   "metadata": {},
   "source": [
    "All quotes are excerpted from https://toadstyle.org/cryptopals/57.txt\n",
    "\n",
    "```\n",
    "57. Diffie-Hellman Revisited: Subgroup-Confinement Attacks\n",
    "\n",
    "This set is going to focus on elliptic curves. But before we get to\n",
    "that, we're going to kick things off with some classic Diffie-Hellman.\n",
    "\n",
    "Trust me, it's gonna make sense later.\n",
    "\n",
    "Let's get right into it. First, build your typical Diffie-Hellman key\n",
    "agreement: Alice and Bob exchange public keys and derive the same\n",
    "shared secret. Then Bob sends Alice some message with a MAC over\n",
    "it. Easy as pie.\n",
    "\n",
    "Use these parameters:\n",
    "\n",
    "    p = 7199773997391911030609999317773941274322764333428698921736339643928346453700085358802973900485592910475480089726140708102474957429903531369589969318716771\n",
    "    g = 4565356397095740655436854503483826832136106141639563487732438195343690437606117828318042418238184896212352329118608100083187535033402010599512641674644143\n",
    "\n",
    "The generator g has order q:\n",
    "\n",
    "    q = 236234353446506858198510045061214171961\n",
    "```"
   ]
  },
  {
   "cell_type": "code",
   "execution_count": 1,
   "metadata": {},
   "outputs": [],
   "source": [
    "from itertools import count, chain\n",
    "from functools import reduce\n",
    "from operator import mul\n",
    "from random import randrange\n",
    "from math import log\n",
    "\n",
    "from challenge_31 import do_sha256, hmac\n",
    "from challenge_39 import egcd"
   ]
  },
  {
   "cell_type": "code",
   "execution_count": 2,
   "metadata": {},
   "outputs": [],
   "source": [
    "p = 7199773997391911030609999317773941274322764333428698921736339643928346453700085358802973900485592910475480089726140708102474957429903531369589969318716771\n",
    "g = 4565356397095740655436854503483826832136106141639563487732438195343690437606117828318042418238184896212352329118608100083187535033402010599512641674644143\n",
    "q = 236234353446506858198510045061214171961"
   ]
  },
  {
   "cell_type": "code",
   "execution_count": 3,
   "metadata": {
    "scrolled": true
   },
   "outputs": [
    {
     "name": "stdout",
     "output_type": "stream",
     "text": [
      "Bob: Private key = 201866904124989662437836825529482129719\n"
     ]
    },
    {
     "data": {
      "text/plain": [
       "782553285454605605041586582339913275645137988577421059502500919813340136622419016076863036915643562764858095754418142266878793721970944586477152207016502"
      ]
     },
     "execution_count": 3,
     "metadata": {},
     "output_type": "execute_result"
    }
   ],
   "source": [
    "# We'll implement Bob as a coroutine. He takes Diffie-Hellman public keys as inputs and yields (message, mac) pairs.\n",
    "def bob_coro(message):\n",
    "    x = randrange(0, q)\n",
    "    x_pub = pow(g, x, p)  # public key - only yielded, not used\n",
    "    print(\"Bob: Private key =\", x)\n",
    "\n",
    "    h = (yield x_pub)\n",
    "    while True:\n",
    "        secret = get_bytes(pow(h, x, p))\n",
    "        K = do_sha256(secret)\n",
    "        t = hmac(K, message)\n",
    "        h = (yield (message, t))\n",
    "\n",
    "\n",
    "assert log(p, 2) < 64*8\n",
    "def get_bytes(n):\n",
    "    # helper function: converts ints to bytes so we can hash them\n",
    "    # depends on the assumption that n will fit into 64 bytes (asserted above)\n",
    "    return n.to_bytes(64, 'big')\n",
    "\n",
    "\n",
    "bob = bob_coro(b\"a pile driver provider for liars\")\n",
    "next(bob)  # prints private key for reference, logs public key"
   ]
  },
  {
   "cell_type": "markdown",
   "metadata": {},
   "source": [
    "```\n",
    "How can we attack this protocol? Remember what we said before about\n",
    "order: the fact that q divides p-1 guarantees the existence of\n",
    "elements of order q. What if there are smaller divisors of p-1?\n",
    "\n",
    "Spoiler alert: there are. I chose j = (p-1) / q to have many small\n",
    "factors because I want you to be happy. Find them by factoring j,\n",
    "which is:\n",
    "\n",
    "    j = 30477252323177606811760882179058908038824640750610513771646768011063128035873508507547741559514324673960576895059570\n",
    "\n",
    "You don't need to factor it all the way. Just find a bunch of factors\n",
    "smaller than, say, 2^16. There should be plenty. (Friendly tip: maybe\n",
    "avoid any repeated factors. They only complicate things.)\n",
    "```"
   ]
  },
  {
   "cell_type": "code",
   "execution_count": 4,
   "metadata": {},
   "outputs": [],
   "source": [
    "# helper function: generates primes using a modified, unbounded version of the Sieve of Eratosthenes\n",
    "def primegen(up_to=None):\n",
    "    yield 2\n",
    "    d = {}\n",
    "    counter = count(3, 2) if up_to is None else range(3, up_to, 2)\n",
    "    for i in counter:\n",
    "        l = d.pop(i, None)\n",
    "        if l:\n",
    "            for n in l:\n",
    "                d.setdefault(i+(2*n), []).append(n)\n",
    "            continue\n",
    "        yield i\n",
    "        d.setdefault(3*i, []).append(i)"
   ]
  },
  {
   "cell_type": "code",
   "execution_count": 5,
   "metadata": {},
   "outputs": [
    {
     "name": "stdout",
     "output_type": "stream",
     "text": [
      "Looks like primegen() is working!\n"
     ]
    }
   ],
   "source": [
    "def test_primegen():\n",
    "    first_primes = [2, 3, 5, 7, 11, 13, 17, 19, 23, 29, 31, 37, 41, 43, 47]\n",
    "    for p, q in zip(first_primes, primegen()):\n",
    "        assert p == q\n",
    "test_primegen()\n",
    "print(\"Looks like primegen() is working!\")"
   ]
  },
  {
   "cell_type": "code",
   "execution_count": 6,
   "metadata": {},
   "outputs": [
    {
     "data": {
      "text/plain": [
       "[2, 5, 109, 7963, 8539, 20641, 38833, 39341, 46337, 51977, 54319, 57529]"
      ]
     },
     "execution_count": 6,
     "metadata": {},
     "output_type": "execute_result"
    }
   ],
   "source": [
    "# gather small nonrepeated factors of j\n",
    "j = 30477252323177606811760882179058908038824640750610513771646768011063128035873508507547741559514324673960576895059570\n",
    "j_factors = [p for p in primegen(up_to=2**16) if j % p == 0 and (j // p) % p != 0]\n",
    "assert reduce(mul, j_factors, 1) > q  # make sure we have enough factors for the chinese remainder theorem\n",
    "j_factors"
   ]
  },
  {
   "cell_type": "code",
   "execution_count": 7,
   "metadata": {},
   "outputs": [],
   "source": [
    "def get_residues(target, moduli, quiet=True):\n",
    "    residues = []\n",
    "\n",
    "    # run the attack once per modulus\n",
    "    for r in moduli:\n",
    "        if not quiet: print(end=f\"r = {r} ... \", flush=True)\n",
    "\n",
    "        # randomly search the group for an element h of order r\n",
    "        h = find_int_of_order_r(r, p)\n",
    "        while True:\n",
    "            h = pow(randrange(2, p), (p-1)//r, p)\n",
    "            if h != 1:\n",
    "                assert pow(h, r, p) == 1\n",
    "                break\n",
    "\n",
    "        # send h, get back a message mac'd by our \"shared secret\"\n",
    "        message, t = target.send(h)\n",
    "\n",
    "        # recover bob's session secret from t\n",
    "        for i in range(r):\n",
    "            secret = get_bytes(pow(h, i, p))\n",
    "            K = do_sha256(secret)\n",
    "            if hmac(K, message) == t:\n",
    "                break\n",
    "\n",
    "        if not quiet: print(\"Done.\")\n",
    "        residues.append(i)\n",
    "\n",
    "    return residues\n",
    "\n",
    "\n",
    "# helper function: does exactly what the name says\n",
    "def find_int_of_order_r(r, p):\n",
    "    while True:\n",
    "        h = pow(randrange(2, p), (p-1)//r, p)\n",
    "        if h != 1:\n",
    "            assert pow(h, r, p) == 1\n",
    "            return h"
   ]
  },
  {
   "cell_type": "code",
   "execution_count": 8,
   "metadata": {},
   "outputs": [
    {
     "name": "stdout",
     "output_type": "stream",
     "text": [
      "r = 2 ... Done.\n",
      "r = 5 ... Done.\n",
      "r = 109 ... Done.\n",
      "r = 7963 ... Done.\n",
      "r = 8539 ... Done.\n",
      "r = 20641 ... Done.\n",
      "r = 38833 ... Done.\n",
      "r = 39341 ... Done.\n",
      "r = 46337 ... Done.\n",
      "r = 51977 ... Done.\n",
      "r = 54319 ... Done.\n",
      "r = 57529 ... Done.\n"
     ]
    }
   ],
   "source": [
    "# collect residues of bob's private key with each j_factor as a modulus\n",
    "residues = get_residues(bob, j_factors, quiet=False)"
   ]
  },
  {
   "cell_type": "code",
   "execution_count": 9,
   "metadata": {},
   "outputs": [],
   "source": [
    "def mini_crt(a1, n1, a2, n2):\n",
    "    m1, m2 = egcd(n1, n2)[1:]\n",
    "    assert m1*n1 + m2*n2 == 1\n",
    "    a3 = a1*m2*n2 + a2*m1*n1\n",
    "    n3 = n1*n2\n",
    "    return (a3 % n3, n3)\n",
    "\n",
    "\n",
    "def crt(residues, moduli):\n",
    "    result = (residues[0], moduli[0])\n",
    "    for t in zip(residues[1:], moduli[1:]):\n",
    "        result = mini_crt(*result, *t)\n",
    "    return result"
   ]
  },
  {
   "cell_type": "code",
   "execution_count": 10,
   "metadata": {},
   "outputs": [
    {
     "name": "stdout",
     "output_type": "stream",
     "text": [
      "Recovered Bob's private key: 201866904124989662437836825529482129719\n",
      "\n",
      "Scroll up to make sure this value is correct.\n"
     ]
    }
   ],
   "source": [
    "# apply the CRT to recover bob's private key\n",
    "x, m = crt(residues, j_factors)\n",
    "assert m > q\n",
    "print(\"Recovered Bob's private key:\", x)\n",
    "print()\n",
    "print(\"Scroll up to make sure this value is correct.\")"
   ]
  },
  {
   "cell_type": "code",
   "execution_count": null,
   "metadata": {},
   "outputs": [],
   "source": []
  }
 ],
 "metadata": {
  "kernelspec": {
   "display_name": "Python 3",
   "language": "python",
   "name": "python3"
  },
  "language_info": {
   "codemirror_mode": {
    "name": "ipython",
    "version": 3
   },
   "file_extension": ".py",
   "mimetype": "text/x-python",
   "name": "python",
   "nbconvert_exporter": "python",
   "pygments_lexer": "ipython3",
   "version": "3.7.3"
  }
 },
 "nbformat": 4,
 "nbformat_minor": 4
}
