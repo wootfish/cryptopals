{
 "cells": [
  {
   "cell_type": "markdown",
   "metadata": {},
   "source": [
    "All quotes are excerpted from https://toadstyle.org/cryptopals/57.txt\n",
    "\n",
    "```\n",
    "57. Diffie-Hellman Revisited: Subgroup-Confinement Attacks\n",
    "\n",
    "This set is going to focus on elliptic curves. But before we get to\n",
    "that, we're going to kick things off with some classic Diffie-Hellman.\n",
    "\n",
    "Trust me, it's gonna make sense later.\n",
    "\n",
    "Let's get right into it. First, build your typical Diffie-Hellman key\n",
    "agreement: Alice and Bob exchange public keys and derive the same\n",
    "shared secret. Then Bob sends Alice some message with a MAC over\n",
    "it. Easy as pie.\n",
    "\n",
    "Use these parameters:\n",
    "\n",
    "    p = 7199773997391911030609999317773941274322764333428698921736339643928346453700085358802973900485592910475480089726140708102474957429903531369589969318716771\n",
    "    g = 4565356397095740655436854503483826832136106141639563487732438195343690437606117828318042418238184896212352329118608100083187535033402010599512641674644143\n",
    "\n",
    "The generator g has order q:\n",
    "\n",
    "    q = 236234353446506858198510045061214171961\n",
    "```"
   ]
  },
  {
   "cell_type": "code",
   "execution_count": 1,
   "metadata": {},
   "outputs": [],
   "source": [
    "from itertools import chain\n",
    "from functools import reduce\n",
    "from operator import mul\n",
    "from random import randrange\n",
    "from math import log\n",
    "\n",
    "from challenge_31 import do_sha256, hmac\n",
    "from challenge_57 import int_to_bytes, primegen, crt"
   ]
  },
  {
   "cell_type": "code",
   "execution_count": 2,
   "metadata": {},
   "outputs": [],
   "source": [
    "p = 7199773997391911030609999317773941274322764333428698921736339643928346453700085358802973900485592910475480089726140708102474957429903531369589969318716771\n",
    "g = 4565356397095740655436854503483826832136106141639563487732438195343690437606117828318042418238184896212352329118608100083187535033402010599512641674644143\n",
    "q = 236234353446506858198510045061214171961"
   ]
  },
  {
   "cell_type": "code",
   "execution_count": 3,
   "metadata": {},
   "outputs": [
    {
     "name": "stdout",
     "output_type": "stream",
     "text": [
      "int_to_bytes(): OK\n",
      "primegen(): OK\n"
     ]
    }
   ],
   "source": [
    "assert log(p, 2) < 64*8  # make sure our inputs to int_to_bytes() will fit into 64 bytes\n",
    "print(\"int_to_bytes(): OK\")\n",
    "\n",
    "def test_primegen():\n",
    "    first_primes = [2, 3, 5, 7, 11, 13, 17, 19, 23, 29, 31, 37, 41, 43, 47]\n",
    "    for p, q in zip(first_primes, primegen()):\n",
    "        assert p == q\n",
    "test_primegen()\n",
    "print(\"primegen(): OK\")"
   ]
  },
  {
   "cell_type": "code",
   "execution_count": 4,
   "metadata": {
    "scrolled": true
   },
   "outputs": [
    {
     "name": "stdout",
     "output_type": "stream",
     "text": [
      "Bob: Private key = 190434142081251552459875186369646892147\n"
     ]
    }
   ],
   "source": [
    "# We'll implement Bob as a coroutine. He takes Diffie-Hellman public keys as inputs and yields (message, mac) pairs.\n",
    "def bob_coro(message):\n",
    "    x = randrange(0, q)\n",
    "    x_pub = pow(g, x, p)  # public key - only yielded, not used\n",
    "    print(\"Bob: Private key =\", x)\n",
    "\n",
    "    h = (yield x_pub)\n",
    "    while True:\n",
    "        secret = int_to_bytes(pow(h, x, p))\n",
    "        K = do_sha256(secret)\n",
    "        t = hmac(K, message)\n",
    "        h = (yield (message, t))\n",
    "\n",
    "\n",
    "bob = bob_coro(b\"a pile driver provider for liars\")\n",
    "bob_pub = next(bob)  # prints private key for reference; returns public key"
   ]
  },
  {
   "cell_type": "markdown",
   "metadata": {},
   "source": [
    "```\n",
    "How can we attack this protocol? Remember what we said before about\n",
    "order: the fact that q divides p-1 guarantees the existence of\n",
    "elements of order q. What if there are smaller divisors of p-1?\n",
    "\n",
    "Spoiler alert: there are. I chose j = (p-1) / q to have many small\n",
    "factors because I want you to be happy. Find them by factoring j,\n",
    "which is:\n",
    "\n",
    "    j = 30477252323177606811760882179058908038824640750610513771646768011063128035873508507547741559514324673960576895059570\n",
    "\n",
    "You don't need to factor it all the way. Just find a bunch of factors\n",
    "smaller than, say, 2^16. There should be plenty. (Friendly tip: maybe\n",
    "avoid any repeated factors. They only complicate things.)\n",
    "```"
   ]
  },
  {
   "cell_type": "code",
   "execution_count": 5,
   "metadata": {},
   "outputs": [
    {
     "data": {
      "text/plain": [
       "[2, 5, 109, 7963, 8539, 20641, 38833, 39341, 46337, 51977, 54319, 57529]"
      ]
     },
     "execution_count": 5,
     "metadata": {},
     "output_type": "execute_result"
    }
   ],
   "source": [
    "# gather small nonrepeated factors of j\n",
    "j = 30477252323177606811760882179058908038824640750610513771646768011063128035873508507547741559514324673960576895059570\n",
    "j_factors = [p for p in primegen(up_to=2**16) if j % p == 0 and (j // p) % p != 0]\n",
    "assert reduce(mul, j_factors, 1) > q  # make sure we have enough factors for the chinese remainder theorem\n",
    "j_factors"
   ]
  },
  {
   "cell_type": "code",
   "execution_count": 6,
   "metadata": {},
   "outputs": [],
   "source": [
    "def get_residues(target, moduli, quiet=True):\n",
    "    residues = []\n",
    "\n",
    "    # run the attack once per modulus\n",
    "    for r in moduli:\n",
    "        if not quiet: print(end=f\"r = {r} ... \", flush=True)\n",
    "\n",
    "        # randomly search the group for an element h of order r\n",
    "        h = find_int_of_order_r(r, p)\n",
    "        while True:\n",
    "            h = pow(randrange(2, p), (p-1)//r, p)\n",
    "            if h != 1:\n",
    "                assert pow(h, r, p) == 1\n",
    "                break\n",
    "\n",
    "        # send h, get back a message mac'd by our \"shared secret\"\n",
    "        message, t = target.send(h)\n",
    "\n",
    "        # recover bob's session secret from t\n",
    "        for i in range(r):\n",
    "            secret = int_to_bytes(pow(h, i, p))\n",
    "            K = do_sha256(secret)\n",
    "            if hmac(K, message) == t:\n",
    "                break\n",
    "\n",
    "        if not quiet: print(\"Done.\")\n",
    "        residues.append(i)\n",
    "\n",
    "    return residues\n",
    "\n",
    "\n",
    "# helper function: does exactly what the name says\n",
    "def find_int_of_order_r(r, p):\n",
    "    while True:\n",
    "        h = pow(randrange(2, p), (p-1)//r, p)\n",
    "        if h != 1:\n",
    "            assert pow(h, r, p) == 1\n",
    "            return h"
   ]
  },
  {
   "cell_type": "code",
   "execution_count": 7,
   "metadata": {},
   "outputs": [
    {
     "name": "stdout",
     "output_type": "stream",
     "text": [
      "r = 2 ... Done.\n",
      "r = 5 ... Done.\n",
      "r = 109 ... Done.\n",
      "r = 7963 ... Done.\n",
      "r = 8539 ... Done.\n",
      "r = 20641 ... Done.\n",
      "r = 38833 ... Done.\n",
      "r = 39341 ... Done.\n",
      "r = 46337 ... Done.\n",
      "r = 51977 ... Done.\n",
      "r = 54319 ... Done.\n",
      "r = 57529 ... Done.\n"
     ]
    }
   ],
   "source": [
    "# collect residues of bob's private key with each j_factor as a modulus\n",
    "residues = get_residues(bob, j_factors, quiet=False)"
   ]
  },
  {
   "cell_type": "code",
   "execution_count": 8,
   "metadata": {},
   "outputs": [
    {
     "name": "stdout",
     "output_type": "stream",
     "text": [
      "Recovered Bob's private key: 190434142081251552459875186369646892147\n",
      "\n",
      "Bob's public key (derived): 1799706003490345794575732047624554232634240985933294895224092070571891444116072739719961722372492430679646073293415733059799563736608074130057494418733698\n",
      "Bob's public key (actual):  1799706003490345794575732047624554232634240985933294895224092070571891444116072739719961722372492430679646073293415733059799563736608074130057494418733698\n",
      "It worked!\n"
     ]
    }
   ],
   "source": [
    "# apply the CRT to recover bob's private key\n",
    "x, m = crt(residues, j_factors)\n",
    "assert m > q\n",
    "bob_pub_derived = pow(g, x, p)\n",
    "print(\"Recovered Bob's private key:\", x)\n",
    "print()\n",
    "print(\"Bob's public key (derived):\", bob_pub_derived)\n",
    "print(\"Bob's public key (actual): \", bob_pub)\n",
    "assert bob_pub_derived == bob_pub\n",
    "print(\"It worked!\")"
   ]
  },
  {
   "cell_type": "code",
   "execution_count": null,
   "metadata": {},
   "outputs": [],
   "source": []
  }
 ],
 "metadata": {
  "kernelspec": {
   "display_name": "Python 3",
   "language": "python",
   "name": "python3"
  },
  "language_info": {
   "codemirror_mode": {
    "name": "ipython",
    "version": 3
   },
   "file_extension": ".py",
   "mimetype": "text/x-python",
   "name": "python",
   "nbconvert_exporter": "python",
   "pygments_lexer": "ipython3",
   "version": "3.7.3"
  }
 },
 "nbformat": 4,
 "nbformat_minor": 4
}
