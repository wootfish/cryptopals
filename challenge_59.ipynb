{
 "cells": [
  {
   "cell_type": "markdown",
   "metadata": {},
   "source": [
    "All quotes below are excerpted from https://toadstyle.org/cryptopals/59.txt\n",
    "\n",
    "---\n",
    "```\n",
    "59. Elliptic Curve Diffie-Hellman and Invalid-Curve Attacks\n",
    "\n",
    "I'm not going to show you any graphs - if you want to see one, you can\n",
    "find them in, like, every other elliptic curve tutorial on the\n",
    "internet. Personally, I've never been able to gain much insight from\n",
    "them.\n",
    "\n",
    "They're also really hard to draw in ASCII.\n",
    "\n",
    "The key thing to understand about elliptic curves is that they're a\n",
    "setting analogous in many ways to one we're more familiar with, the\n",
    "multiplicative integers mod p. So if we learn how certain primitive\n",
    "operations are defined, we can reason about them using a lot of tools\n",
    "we already have in our utility belts.\n",
    "\n",
    "Let's dig in. An elliptic curve E is just an equation like this:\n",
    "\n",
    "    y^2 = x^3 + a*x + b\n",
    "\n",
    "The choice of the a and b coefficients defines the curve.\n",
    "\n",
    "We'll use the notation GF(p) to talk about a finite field of size\n",
    "p. (The \"GF\" is for \"Galois field\", another name for a finite field.)\n",
    "When we take a curve E over field GF(p) (written E(GF(p))), what we're\n",
    "saying is that only points with both x and y in GF(p) are valid.\n",
    "\n",
    "For example, (3, 6) might be a valid point in E(GF(7)), but it\n",
    "wouldn't be a valid point in E(GF(5)); 6 is not a member of GF(5).\n",
    "\n",
    "...\n",
    "\n",
    "Okay: if these points are going to form a group analogous to the\n",
    "multiplicative integers mod p, we need to have an analogous set of\n",
    "primitive functions to work with them.\n",
    "\n",
    "1. In the multiplicative integers mod p, we combined two elements by\n",
    "   multiplying them together and taking the remainder modulo p.\n",
    "\n",
    "   We combine elliptic curve points by adding them. We'll talk about\n",
    "   what that means in a hot second.\n",
    "\n",
    "2. We used 1 as a multiplicative identity: y * 1 = y for all y.\n",
    "\n",
    "   On an elliptic curve, we define the identity O as an abstract\n",
    "   \"point at infinity\" that doesn't map to any actual (x, y)\n",
    "   pair. This might feel like a bit of a hack, but it works.\n",
    "\n",
    "   On the curve, we have the straightforward rule that P + O = P for\n",
    "   all P.\n",
    "\n",
    "   In your code, you can just write something like O := object(),\n",
    "   since it only ever gets used in pointer comparisons. Or you can use\n",
    "   some sentinel coordinate that doesn't satisfy the curve equation;\n",
    "   (0, 1) is popular.\n",
    "\n",
    "3. We had a modinv function to invert an integer mod p. This acted as\n",
    "   a stand-in for division. Given y, it finds x such that y * x = 1.\n",
    "\n",
    "   Inversion is way easier in elliptic curves. Just flip the sign on\n",
    "   y, and remember that we're in GF(p):\n",
    "\n",
    "       invert((x, y)) = (x, -y) = (x, p-y)\n",
    "\n",
    "   Just like with multiplicative inverses, we have this rule on\n",
    "   elliptic curves:\n",
    "\n",
    "       P + (-P) = P + invert(P) = O\n",
    "\n",
    "Incidentally, these primitives, along with a finite set of elements,\n",
    "are all we need to define a finite cyclic group, which is all we need\n",
    "to define the Diffie-Hellman function. Not important to understand the\n",
    "abstract jargon, just FYI.\n",
    "```"
   ]
  },
  {
   "cell_type": "code",
   "execution_count": 1,
   "metadata": {},
   "outputs": [],
   "source": [
    "from challenge_31 import do_sha256, hmac\n",
    "from challenge_39 import invmod\n",
    "from challenge_57 import primegen, crt\n",
    "from functools import reduce\n",
    "from itertools import count\n",
    "from operator import mul\n",
    "from random import randrange\n",
    "from math import log"
   ]
  },
  {
   "cell_type": "code",
   "execution_count": 2,
   "metadata": {},
   "outputs": [],
   "source": [
    "class Zero:\n",
    "    pass\n",
    "\n",
    "\n",
    "class Curve:\n",
    "    def __init__(self, a, b, p):\n",
    "        self.zero = Zero()\n",
    "        self.a = a\n",
    "        self.b = b\n",
    "        self.p = p\n",
    "    \n",
    "    def inv(self, pt):\n",
    "        x, y = pt\n",
    "        p = self.p\n",
    "        return (x, p-y)  # = (x, -y) in GF(p)\n",
    "\n",
    "    def add(self, p1, p2):  # don't worry about how this works. it's ~magic~\n",
    "        zero = self.zero\n",
    "        if p1 is zero: return p2\n",
    "        if p2 is zero: return p1\n",
    "        if p1 == self.inv(p2): return zero\n",
    "        \n",
    "        a, p = self.a, self.p\n",
    "        x1, y1 = p1\n",
    "        x2, y2 = p2\n",
    "        \n",
    "        if p1 == p2:\n",
    "            top = (3 * x1**2 + a) % p\n",
    "            btm = (2 * y1) % p\n",
    "        else:\n",
    "            top = (y2 - y1) % p\n",
    "            btm = (x2 - x1) % p\n",
    "        m = (top * invmod(btm, p)) % p\n",
    "        \n",
    "        x3 = (m**2 - x1 - x2) % p\n",
    "        y3 = (m*(x1 - x3) - y1) % p\n",
    "        return x3, y3\n",
    "    \n",
    "    def mul(self, pt, k):\n",
    "        result = self.zero\n",
    "        add = self.add\n",
    "        while k:\n",
    "            if k & 1:\n",
    "                result = add(result, pt)\n",
    "            pt = add(pt, pt)\n",
    "            k >>= 1\n",
    "        return result"
   ]
  },
  {
   "cell_type": "markdown",
   "metadata": {},
   "source": [
    "```\n",
    "Let's put this newfound knowledge into action. Implement a set of\n",
    "functions up to and including elliptic curve scalar\n",
    "multiplication. (Remember that all computations are in GF(p), i.e. mod\n",
    "p.) You can use this curve:\n",
    "\n",
    "    y^2 = x^3 - 95051*x + 11279326\n",
    "\n",
    "Over GF(233970423115425145524320034830162017933). Use this base point:\n",
    "\n",
    "    (182, 85518893674295321206118380980485522083)\n",
    "\n",
    "It has order 29246302889428143187362802287225875743.\n",
    "\n",
    "Oh yeah, order. Finding the order of an elliptic curve group turns out\n",
    "to be a bit tricky, so just trust me when I tell you this one has\n",
    "order 233970423115425145498902418297807005944. That factors to 2^3 *\n",
    "29246302889428143187362802287225875743.\n",
    "\n",
    "If your implementation works correctly, it should be easy to verify:\n",
    "remember that multiplying the base point by its order should yield the\n",
    "group identity.\n",
    "```"
   ]
  },
  {
   "cell_type": "code",
   "execution_count": 3,
   "metadata": {},
   "outputs": [],
   "source": [
    "curve = Curve(a=-95051, b=11279326, p=233970423115425145524320034830162017933)\n",
    "\n",
    "base = (182, 85518893674295321206118380980485522083)\n",
    "order = 29246302889428143187362802287225875743\n",
    "\n",
    "# Quick test: make sure the base point times the order equals the group's identity element\n",
    "assert curve.mul(base, order) is curve.zero"
   ]
  },
  {
   "cell_type": "markdown",
   "metadata": {},
   "source": [
    "```\n",
    "Implement ECDH and verify that you can do a handshake correctly. In\n",
    "this case, Alice and Bob's secrets will be scalars modulo the base\n",
    "point order and their public elements will be points. If you\n",
    "implemented the primitives correctly, everything should \"just work\".\n",
    "```"
   ]
  },
  {
   "cell_type": "code",
   "execution_count": 4,
   "metadata": {},
   "outputs": [],
   "source": [
    "class ECDHKeypair:\n",
    "    _priv = None\n",
    "    pub = None\n",
    "    \n",
    "    def __init__(self, curve):\n",
    "        self.curve = curve\n",
    "        self.keygen()\n",
    "        \n",
    "    def keygen(self):\n",
    "        curve = self.curve\n",
    "        \n",
    "        priv = randrange(0, order)\n",
    "        pub = curve.mul(base, priv)\n",
    "        \n",
    "        self._priv = priv\n",
    "        self.pub = pub\n",
    "    \n",
    "    def handshake(self, other_pub):\n",
    "        return self.curve.mul(other_pub, self._priv)"
   ]
  },
  {
   "cell_type": "code",
   "execution_count": 5,
   "metadata": {},
   "outputs": [
    {
     "name": "stdout",
     "output_type": "stream",
     "text": [
      "Alice's version of shared secret: (190505261385647865938462404279859891977, 31017764830082533994147172335899137503)\n",
      "Bob's version of shared secret:   (190505261385647865938462404279859891977, 31017764830082533994147172335899137503)\n",
      "ECDH handshake successful!\n"
     ]
    }
   ],
   "source": [
    "# Let's run through a test handshake to make sure our ECDH implementation is sound.\n",
    "# We'll encapsulate this test in a function to avoid polluting the top-level namespace.\n",
    "\n",
    "def test_handshake():\n",
    "    alice = ECDHKeypair(curve)\n",
    "    bob = ECDHKeypair(curve)\n",
    "\n",
    "    alice_secret = alice.handshake(bob.pub)\n",
    "    bob_secret = bob.handshake(alice.pub)\n",
    "\n",
    "    print(\"Alice's version of shared secret:\", alice_secret)\n",
    "    print(\"Bob's version of shared secret:  \", bob_secret)\n",
    "    assert alice_secret == bob_secret\n",
    "    print(\"ECDH handshake successful!\")\n",
    "    \n",
    "test_handshake()"
   ]
  },
  {
   "cell_type": "markdown",
   "metadata": {},
   "source": [
    "```\n",
    "Next, reconfigure your protocol from #57 to use ECDH.\n",
    "```"
   ]
  },
  {
   "cell_type": "code",
   "execution_count": 6,
   "metadata": {},
   "outputs": [],
   "source": [
    "def point_to_bytes(pt):\n",
    "    # helper function\n",
    "    # this is a quick & dirty hack for turning an EC point into something we can hash\n",
    "    # assumes log(p, 2) < 128\n",
    "    if isinstance(pt, Zero):\n",
    "        pt = (0, 1)\n",
    "    return pt[0].to_bytes(128, 'big') + pt[1].to_bytes(128, 'big')\n",
    "assert log(curve.p, 2) < 128\n",
    "\n",
    "\n",
    "def bob_coro(message=b'crazy flamboyant for the rap enjoyment', curve=curve):\n",
    "    keypair = ECDHKeypair(curve)\n",
    "    print(\"Bob's secret private key:\", keypair._priv)\n",
    "\n",
    "    # announce our public key on coroutine initialization (before generating first response)\n",
    "    output = keypair.pub\n",
    "    \n",
    "    while True:\n",
    "        remote_pub = (yield output)\n",
    "        secret = keypair.handshake(remote_pub)\n",
    "        mac_key = do_sha256(point_to_bytes(secret))\n",
    "        mac = hmac(mac_key, message)\n",
    "        output = (message, mac)"
   ]
  },
  {
   "cell_type": "code",
   "execution_count": 7,
   "metadata": {},
   "outputs": [
    {
     "name": "stdout",
     "output_type": "stream",
     "text": [
      "Bob's secret private key: 27908841264252045078566735712826485678\n",
      "Bob appears to be working!\n"
     ]
    }
   ],
   "source": [
    "# quick test: make sure Bob gives us correct MACs and doesn't throw any errors\n",
    "\n",
    "def test_bob(n=10):\n",
    "    bob = bob_coro()\n",
    "    bob_pub = next(bob)\n",
    "\n",
    "    for _ in range(n):\n",
    "        keypair = ECDHKeypair(curve)\n",
    "        message, mac = bob.send(keypair.pub)\n",
    "\n",
    "        mac_key = do_sha256(point_to_bytes(keypair.handshake(bob_pub)))\n",
    "        assert hmac(mac_key, message) == mac\n",
    "\n",
    "    print(\"Bob appears to be working!\")\n",
    "    \n",
    "test_bob()"
   ]
  },
  {
   "cell_type": "markdown",
   "metadata": {},
   "source": [
    "```\n",
    "Can we apply the subgroup-confinement attacks from #57 in this\n",
    "setting? At first blush, it seems like it will be pretty difficult,\n",
    "since the cofactor is so small. We can recover, like, three bits by\n",
    "sending a point with order 8, but that's about it. There just aren't\n",
    "enough small-order points on the curve.\n",
    "\n",
    "How about not on the curve?\n",
    "\n",
    "Wait, what? Yeah, points *not* on the curve. Look closer at our\n",
    "combine function. Notice anything missing? The b parameter of the\n",
    "curve is not accounted for anywhere. This is because we have four\n",
    "inputs to the calculation: the curve parameters (a, b) and the point\n",
    "coordinates (x, y). Given any three, you can calculate the fourth. In\n",
    "other words, we don't need b because b is already baked into every\n",
    "valid (x, y) pair.\n",
    "\n",
    "There's a dangerous assumption there: namely, that the peer will\n",
    "submit a valid (x, y) pair. If Eve can submit an invalid pair, that\n",
    "really opens up her play: now she can pick points from any curve that\n",
    "differs only in its b parameter. All she has to do is find some curves\n",
    "with small subgroups and cherry-pick a few points of small\n",
    "order. Alice will unwittingly compute the shared secret on the wrong\n",
    "curve and leak a few bits of her private key in the process.\n",
    "\n",
    "How do we find suitable curves? Well, remember that I mentioned\n",
    "counting points on elliptic curves is tricky. If you're very brave,\n",
    "you can implement Schoof-Elkies-Atkins. Or you can use a computer\n",
    "algebra system like SageMath. Or you can just use these curves I\n",
    "generated for you:\n",
    "\n",
    "y^2 = x^3 - 95051*x + 210\n",
    "\n",
    "y^2 = x^3 - 95051*x + 504\n",
    "\n",
    "y^2 = x^3 - 95051*x + 727\n",
    "\n",
    "They have orders:\n",
    "\n",
    "233970423115425145550826547352470124412\n",
    "\n",
    "233970423115425145544350131142039591210\n",
    "\n",
    "233970423115425145545378039958152057148\n",
    "\n",
    "They should have a fair few small factors between them. So: find some\n",
    "points of small order and send them to Alice. You can use the same\n",
    "trick from before to find points of some prime order r. Suppose the\n",
    "group has order q. Pick some random point and multiply by q/r. If you\n",
    "land on the identity, start over.\n",
    "\n",
    "It might not be immediately obvious how to choose random points, but\n",
    "you can just pick an x and calculate y. This will require you to\n",
    "implement a modular square root algorithm; use Tonelli-Shanks, it's\n",
    "pretty straightforward.\n",
    "\n",
    "Implement the key-recovery attack from #57 using small-order points\n",
    "from invalid curves.\n",
    "```"
   ]
  },
  {
   "cell_type": "code",
   "execution_count": 8,
   "metadata": {},
   "outputs": [
    {
     "name": "stdout",
     "output_type": "stream",
     "text": [
      "Tonelli-Shanks appears to be working!\n"
     ]
    }
   ],
   "source": [
    "from challenge_59 import tonelli_shanks, find_point_of_order_r\n",
    "\n",
    "def test_tonelli_shanks():\n",
    "    p = 17\n",
    "    for i in range(1, p):\n",
    "        sq = pow(i, 2, p)\n",
    "        roots = tonelli_shanks(sq, p)\n",
    "        assert i in roots\n",
    "    print(\"Tonelli-Shanks appears to be working!\")\n",
    "test_tonelli_shanks()"
   ]
  },
  {
   "cell_type": "code",
   "execution_count": 9,
   "metadata": {},
   "outputs": [],
   "source": [
    "# Parameters for our new curves:\n",
    "b_vals = [210, 504, 727]\n",
    "new_orders = [233970423115425145550826547352470124412,\n",
    "              233970423115425145544350131142039591210,\n",
    "              233970423115425145545378039958152057148]"
   ]
  },
  {
   "cell_type": "code",
   "execution_count": 10,
   "metadata": {},
   "outputs": [
    {
     "name": "stdout",
     "output_type": "stream",
     "text": [
      "Bob's secret private key: 24929733335361946273336756535757847696\n"
     ]
    },
    {
     "data": {
      "text/plain": [
       "(93925966875889713149384376576371996816,\n",
       " 141028857612932217596051080106443748707)"
      ]
     },
     "execution_count": 10,
     "metadata": {},
     "output_type": "execute_result"
    }
   ],
   "source": [
    "bob = bob_coro()\n",
    "bob_pub = next(bob)\n",
    "bob_pub  # bob's public key"
   ]
  },
  {
   "cell_type": "code",
   "execution_count": 11,
   "metadata": {},
   "outputs": [
    {
     "name": "stdout",
     "output_type": "stream",
     "text": [
      "\n",
      "Now using b = 210\n",
      "Partially factoring curve's order...\n",
      "New moduli: [3, 11, 23, 31, 89, 4999, 28411, 45361]\n",
      "Gathering residues...\n",
      "Done.\n",
      "\n",
      "Now using b = 504\n",
      "Partially factoring curve's order...\n",
      "New moduli: [5, 7, 61, 12157, 34693]\n",
      "Gathering residues...\n",
      "Done.\n",
      "\n",
      "Now using b = 727\n",
      "Partially factoring curve's order...\n",
      "New moduli: [37, 67, 607, 1979, 13327, 13799]\n",
      "Gathering residues...\n",
      "Done.\n",
      "\n",
      "We have enough data to use the CRT!\n"
     ]
    }
   ],
   "source": [
    "moduli = []\n",
    "residues = []\n",
    "\n",
    "for b_val, new_order in zip(b_vals, new_orders):\n",
    "    new_curve = Curve(curve.a, b_val, curve.p)\n",
    "    \n",
    "    print(\"\\nNow using b =\", b_val)\n",
    "    print(\"Partially factoring curve's order...\")\n",
    "\n",
    "    small_non_repeated_factors = [p for p in primegen(up_to=2**16)\n",
    "                                  if new_order % p == 0]\n",
    "\n",
    "    divisors = [d for d in small_non_repeated_factors\n",
    "                if d not in moduli and d != 2]  # d=2 gives us points with y-coord 0 - more trouble than it's worth\n",
    "\n",
    "    moduli += divisors\n",
    "    \n",
    "    if divisors:\n",
    "        print(\"New moduli:\", divisors)\n",
    "        print(\"Gathering residues...\")\n",
    "        for d in divisors:\n",
    "            base_pt = find_point_of_order_r(d, new_curve, new_order)\n",
    "            message, mac = bob.send(base_pt)\n",
    "            \n",
    "            # run exhaustive search on range(d) to determine bob._priv % d\n",
    "            pt = curve.zero\n",
    "            for i in range(d):\n",
    "                mac_key = do_sha256(point_to_bytes(pt))\n",
    "                if hmac(mac_key, message) == mac:\n",
    "                    break\n",
    "                pt = curve.add(base_pt, pt)\n",
    "            else:\n",
    "                raise Exception(\"couldn't find mac key\")\n",
    "            \n",
    "            residues.append(i)  # i = bob._priv % d\n",
    "        print(\"Done.\")\n",
    "\n",
    "assert reduce(mul, moduli, 1) > curve.p  # make sure we have enough moduli for the CRT to work\n",
    "print(\"\\nWe have enough data to use the CRT!\")"
   ]
  },
  {
   "cell_type": "code",
   "execution_count": 12,
   "metadata": {},
   "outputs": [
    {
     "name": "stdout",
     "output_type": "stream",
     "text": [
      "Residues: [1, 2, 7, 11, 75, 2635, 1405, 38061, 1, 1, 8, 5290, 24038, 17, 20, 110, 446, 7736, 4264]\n",
      "Moduli: [3, 11, 23, 31, 89, 4999, 28411, 45361, 5, 7, 61, 12157, 34693, 37, 67, 607, 1979, 13327, 13799]\n",
      "\n",
      "Bob's private key (derived): 24929733335361946273336756535757847696\n",
      "Bob's public key (derived):  (93925966875889713149384376576371996816, 141028857612932217596051080106443748707)\n",
      "Bob's public key (actual):   (93925966875889713149384376576371996816, 141028857612932217596051080106443748707)\n",
      "\n",
      "💥 Bob's ECDH private key has been recovered.\n"
     ]
    }
   ],
   "source": [
    "print(\"Residues:\", residues)\n",
    "print(\"Moduli:\", moduli)\n",
    "\n",
    "res = crt(residues, moduli)  # this is our guess for Bob's private key\n",
    "assert res[1] > curve.p\n",
    "bob_priv = res[0]\n",
    "bob_pub_derived = curve.mul(base, bob_priv)\n",
    "\n",
    "print()\n",
    "print(\"Bob's private key (derived):\", bob_priv)\n",
    "print(\"Bob's public key (derived): \", bob_pub_derived)\n",
    "print(\"Bob's public key (actual):  \", bob_pub)\n",
    "assert bob_pub == bob_pub_derived\n",
    "print(\"\\n💥 Bob's ECDH private key has been recovered.\")"
   ]
  },
  {
   "cell_type": "code",
   "execution_count": null,
   "metadata": {},
   "outputs": [],
   "source": []
  }
 ],
 "metadata": {
  "kernelspec": {
   "display_name": "Python 3",
   "language": "python",
   "name": "python3"
  },
  "language_info": {
   "codemirror_mode": {
    "name": "ipython",
    "version": 3
   },
   "file_extension": ".py",
   "mimetype": "text/x-python",
   "name": "python",
   "nbconvert_exporter": "python",
   "pygments_lexer": "ipython3",
   "version": "3.7.3"
  }
 },
 "nbformat": 4,
 "nbformat_minor": 4
}
