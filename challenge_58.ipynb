{
 "cells": [
  {
   "cell_type": "markdown",
   "metadata": {},
   "source": [
    "All quotes below are excerpted from https://toadstyle.org/cryptopals/58.txt\n",
    "\n",
    "```\n",
    "58. Pollard's Method for Catching Kangaroos\n",
    "\n",
    "The last problem was a little contrived. It only worked because I\n",
    "helpfully foisted those broken group parameters on Alice and\n",
    "Bob. While real-world groups may include some small subgroups, it's\n",
    "improbable to find this many in a randomly generated group.\n",
    "\n",
    "So what if we can only recover some fraction of the Bob's secret key?\n",
    "It feels like there should be some way to use that knowledge to\n",
    "recover the rest. And there is: Pollard's kangaroo algorithm.\n",
    "\n",
    "This is a generic attack for computing a discrete logarithm (or\n",
    "\"index\") known to lie within a certain contiguous range [a, b]. It has\n",
    "a work factor approximately the square root of the size of the range.\n",
    "\n",
    "The basic strategy is to try to find a collision between two\n",
    "pseudorandom sequences of elements. One will start from an element of\n",
    "known index, and the other will start from the element y whose index\n",
    "we want to find.\n",
    "```"
   ]
  },
  {
   "cell_type": "code",
   "execution_count": 1,
   "metadata": {},
   "outputs": [],
   "source": [
    "from itertools import count\n",
    "from random import randrange\n",
    "from math import log\n",
    "\n",
    "from challenge_31 import do_sha256, hmac\n",
    "from challenge_39 import invmod\n",
    "from challenge_57 import bob, crt, get_residues, primegen"
   ]
  },
  {
   "cell_type": "code",
   "execution_count": 2,
   "metadata": {},
   "outputs": [],
   "source": [
    "p = 11470374874925275658116663507232161402086650258453896274534991676898999262641581519101074740642369848233294239851519212341844337347119899874391456329785623\n",
    "q = 335062023296420808191071248367701059461\n",
    "j = 34233586850807404623475048381328686211071196701374230492615844865929237417097514638999377942356150481334217896204702\n",
    "g = 622952335333961296978159266084741085889881358738459939978290179936063635566740258555167783009058567397963466103140082647486611657350811560630587013183357"
   ]
  },
  {
   "cell_type": "code",
   "execution_count": 3,
   "metadata": {},
   "outputs": [],
   "source": [
    "def f(y, k):\n",
    "    return 2 ** (y % k)"
   ]
  },
  {
   "cell_type": "code",
   "execution_count": 4,
   "metadata": {},
   "outputs": [],
   "source": [
    "def pollard(y, a, b, k=11, g=g, p=p, quiet=True):\n",
    "    # implementation of Pollard's kangaroo algorithm. Follows the description given in 57.txt\n",
    "    \n",
    "    N = 4 * (2**k - 1) // k\n",
    "    \n",
    "    if not quiet:\n",
    "        print(f\"Starting Pollard's algorithm (k = {k}, N = {N})\")\n",
    "        print()\n",
    "        print(\"Taking the tame kangaroo out for a walk.\")\n",
    "        \n",
    "    xT = 0\n",
    "    yT = pow(g, b, p)\n",
    "    for i in range(N):\n",
    "        f_yT = f(yT, k)  # precompute this value since we use it twice\n",
    "        xT += f_yT\n",
    "        yT = (yT * pow(g, f_yT, p)) % p\n",
    "\n",
    "    if not quiet: print(\"Releasing the wild kangaroo! (this may take a while)\")\n",
    "\n",
    "    xW = 0\n",
    "    yW = y\n",
    "    while xW < b - a + xT:\n",
    "        f_yW = f(yW, k)\n",
    "        xW += f_yW\n",
    "        yW = (yW * pow(g, f_yW, p)) % p\n",
    "\n",
    "        if yW == yT:\n",
    "            if not quiet: print(\"The wild kangaroo found something!\")\n",
    "            return b + xT - xW\n",
    "\n",
    "    print(\"Didn't find anything this time...\")  # the algorithm is probabilistic so this may happen"
   ]
  },
  {
   "cell_type": "markdown",
   "metadata": {},
   "source": [
    "```\n",
    "Implement Pollard's kangaroo algorithm. Here are some (less\n",
    "accommodating) group parameters:\n",
    "\n",
    "    p = 11470374874925275658116663507232161402086650258453896274534991676898999262641581519101074740642369848233294239851519212341844337347119899874391456329785623\n",
    "    q = 335062023296420808191071248367701059461\n",
    "    j = 34233586850807404623475048381328686211071196701374230492615844865929237417097514638999377942356150481334217896204702\n",
    "    g = 622952335333961296978159266084741085889881358738459939978290179936063635566740258555167783009058567397963466103140082647486611657350811560630587013183357\n",
    "\n",
    "And here's a sample y:\n",
    "\n",
    "    y = 7760073848032689505395005705677365876654629189298052775754597607446617558600394076764814236081991643094239886772481052254010323780165093955236429914607119\n",
    "\n",
    "The index of y is in the range [0, 2^20]. Find it with the kangaroo\n",
    "algorithm.\n",
    "```"
   ]
  },
  {
   "cell_type": "code",
   "execution_count": 5,
   "metadata": {},
   "outputs": [
    {
     "name": "stdout",
     "output_type": "stream",
     "text": [
      "Recovering y1...\n",
      "Starting Pollard's algorithm (k = 11, N = 744)\n",
      "\n",
      "Taking the tame kangaroo out for a walk.\n",
      "Releasing the wild kangaroo! (this may take a while)\n",
      "The wild kangaroo found something!\n",
      "Result: 705485\n",
      "It worked!\n"
     ]
    }
   ],
   "source": [
    "y1 = 7760073848032689505395005705677365876654629189298052775754597607446617558600394076764814236081991643094239886772481052254010323780165093955236429914607119\n",
    "\n",
    "a1, b1 = 0, 2**20\n",
    "print(\"Recovering y1...\")\n",
    "result = pollard(y1, a1, b1, quiet=False)\n",
    "print(\"Result:\", result)\n",
    "assert pow(g, result, p) == y1\n",
    "print(\"It worked!\")"
   ]
  },
  {
   "cell_type": "markdown",
   "metadata": {},
   "source": [
    "```\n",
    "Wait, that's small enough to brute force. Here's one whose index is in\n",
    "[0, 2^40]:\n",
    "\n",
    "    y = 9388897478013399550694114614498790691034187453089355259602614074132918843899833277397448144245883225611726912025846772975325932794909655215329941809013733\n",
    "\n",
    "Find that one, too. It might take a couple minutes.\n",
    "```"
   ]
  },
  {
   "cell_type": "code",
   "execution_count": 6,
   "metadata": {},
   "outputs": [
    {
     "name": "stdout",
     "output_type": "stream",
     "text": [
      "Recovering y2...\n",
      "Starting Pollard's algorithm (k = 23, N = 1458888)\n",
      "\n",
      "Taking the tame kangaroo out for a walk.\n",
      "Releasing the wild kangaroo! (this may take a while)\n",
      "The wild kangaroo found something!\n",
      "Result: 359579674340\n",
      "It worked!\n"
     ]
    }
   ],
   "source": [
    "y2 = 9388897478013399550694114614498790691034187453089355259602614074132918843899833277397448144245883225611726912025846772975325932794909655215329941809013733\n",
    "\n",
    "a2, b2 = 0, 2**40\n",
    "print(\"Recovering y2...\")\n",
    "result = pollard(y2, a2, b2, k=23, quiet=False)\n",
    "print(\"Result:\", result)\n",
    "assert pow(g, result, p) == y2\n",
    "print(\"It worked!\")"
   ]
  },
  {
   "cell_type": "markdown",
   "metadata": {},
   "source": [
    "```\n",
    "    ~~ later ~~\n",
    "\n",
    "Enough about kangaroos, let's get back to Bob. Suppose we know Bob's\n",
    "secret key x = n mod r for some r < q. It's actually not totally\n",
    "obvious how to apply this algorithm to get the rest! Because we only\n",
    "have:\n",
    "\n",
    "    x = n mod r\n",
    "\n",
    "Which means:\n",
    "\n",
    "    x = n + m*r\n",
    "\n",
    "For some unknown m. This relation defines a set of values that are\n",
    "spread out at intervals of r, but Pollard's kangaroo requires a\n",
    "continuous range!\n",
    "\n",
    "Actually, this isn't a big deal. Because check it out - we can just\n",
    "apply the following transformations:\n",
    "\n",
    "    x = n + m*r\n",
    "    y = g^x = g^(n + m*r)\n",
    "    y = g^n * g^(m*r)\n",
    "    y' = y * g^-n = g^(m*r)\n",
    "    g' = g^r\n",
    "    y' = (g')^m\n",
    "\n",
    "Now simply search for the index m of y' to the base element g'. Notice\n",
    "that we have a rough bound for m: [0, (q-1)/r]. After you find m, you\n",
    "can plug it into your existing knowledge of x to recover the rest of\n",
    "the secret.\n",
    "\n",
    "Take the above group parameters and generate a key pair for Bob. Use\n",
    "your subgroup-confinement attack from the last problem to recover as\n",
    "much of Bob's secret as you can. You'll be able to get a good chunk of\n",
    "it, but not the whole thing. Then use the kangaroo algorithm to run\n",
    "down the remaining bits.\n",
    "```"
   ]
  },
  {
   "cell_type": "code",
   "execution_count": 7,
   "metadata": {},
   "outputs": [],
   "source": [
    "# This code was copied over from challenge_57.ipynb (since we can't import from Jupyter notebooks...)\n",
    "\n",
    "# We'll implement Bob as a coroutine. He takes Diffie-Hellman public keys as inputs and yields (message, mac) pairs.\n",
    "def bob_coro(message):\n",
    "    x = randrange(0, q)\n",
    "    x_pub = pow(g, x, p)  # public key - only yielded, not used\n",
    "    print(\"Bob: Private key =\", x)\n",
    "\n",
    "    h = (yield x_pub)\n",
    "    while True:\n",
    "        secret = get_bytes(pow(h, x, p))\n",
    "        K = do_sha256(secret)\n",
    "        t = hmac(K, message)\n",
    "        h = (yield (message, t))\n",
    "\n",
    "\n",
    "assert log(p, 2) < 64*8\n",
    "def get_bytes(n):\n",
    "    # helper function: converts ints to bytes so we can hash them\n",
    "    # depends on the assumption that n will fit into 64 bytes (asserted above)\n",
    "    return n.to_bytes(64, 'big')\n",
    "\n",
    "\n",
    "# helper function: generates primes using a modified, unbounded version of the Sieve of Eratosthenes\n",
    "def primegen(up_to=None):\n",
    "    yield 2\n",
    "    d = {}\n",
    "    counter = count(3, 2) if up_to is None else range(3, up_to, 2)\n",
    "    for i in counter:\n",
    "        l = d.pop(i, None)\n",
    "        if l:\n",
    "            for n in l:\n",
    "                d.setdefault(i+(2*n), []).append(n)\n",
    "            continue\n",
    "        yield i\n",
    "        d.setdefault(3*i, []).append(i)"
   ]
  },
  {
   "cell_type": "code",
   "execution_count": 8,
   "metadata": {},
   "outputs": [
    {
     "name": "stdout",
     "output_type": "stream",
     "text": [
      "Initializing Bob.\n",
      "Bob: Private key = 276179308142963894589145870386339283343\n",
      "Launching Diffie-Hellman subgroup confinement attack.\n",
      "Partially factoring j...\n",
      "Extracting residues from Bob. (😏)\n",
      "r = 2 ... Done.\n",
      "r = 12457 ... Done.\n",
      "r = 14741 ... Done.\n",
      "r = 18061 ... Done.\n",
      "r = 31193 ... Done.\n",
      "r = 33941 ... Done.\n",
      "r = 63803 ... Done.\n",
      "Constraining Bob's private key using the CRT.\n",
      "Bob's private key is congruent to 75075700418337208353518845 mod 448058868191464583449381646\n"
     ]
    }
   ],
   "source": [
    "print(\"Initializing Bob.\")\n",
    "bob = bob_coro(b\"i know you've just about mcfuckin' had it, this shit is just magic\")\n",
    "bob_pub = next(bob)  # prints private key for reference\n",
    "\n",
    "print(\"Launching Diffie-Hellman subgroup confinement attack.\")\n",
    "\n",
    "print(\"Partially factoring j...\")\n",
    "j_factors = [p for p in primegen(up_to=2**16) if j % p == 0 and (j // p) % p != 0]\n",
    "\n",
    "print(\"Extracting residues from Bob. (😏)\")\n",
    "residues = get_residues(bob, j_factors, p=p, quiet=False)\n",
    "\n",
    "print(\"Constraining Bob's private key using the CRT.\")\n",
    "residue, modulus = crt(residues, j_factors)\n",
    "print(\"Bob's private key is congruent to\", residue, \"mod\", modulus)"
   ]
  },
  {
   "cell_type": "code",
   "execution_count": 9,
   "metadata": {},
   "outputs": [
    {
     "name": "stdout",
     "output_type": "stream",
     "text": [
      "Trying k=21\n",
      "Done! m = 616390674863\n",
      "Bob's private key is 276179308142963894589145870386339283343\n",
      "Make sure to check this value against the logged value in the previous code block.\n"
     ]
    }
   ],
   "source": [
    "# Apply the transformations from the quoted block above.\n",
    "# This'll give us something we can use pollard() on.\n",
    "# The names in this block may seem confusing; they were chosen for consistency with 58.txt's description.\n",
    "\n",
    "y = bob_pub\n",
    "n, r = residue, modulus\n",
    "\n",
    "g_prime = pow(g, r, p)\n",
    "g_inv = invmod(g, p)\n",
    "y_prime = (y * pow(g_inv, n, p)) % p\n",
    "\n",
    "# y_prime equals g_prime raised to some index m.\n",
    "# m is also the coefficient in x = n + m*r.\n",
    "# Once we find m, we can use this equation to find the private key x.\n",
    "# We have a rough bound for m: [0, (q-1)/r]. This is enough to use pollard().\n",
    "\n",
    "lb, ub = 0, (q-1) // r\n",
    "\n",
    "# pollard() may fail, so let's call it in a loop and break as soon as it succeeds\n",
    "for k in count(21, 2):\n",
    "    print(f\"Trying k={k}\")\n",
    "    m = pollard(y_prime, lb, ub, k, g_prime)\n",
    "    if m is not None:\n",
    "        break\n",
    "\n",
    "x = n + m*r\n",
    "\n",
    "print(\"Done! m =\", m)\n",
    "print(\"Bob's private key is\", x)\n",
    "print(\"Make sure to check this value against the logged value in the previous code block.\")"
   ]
  },
  {
   "cell_type": "code",
   "execution_count": null,
   "metadata": {},
   "outputs": [],
   "source": []
  }
 ],
 "metadata": {
  "kernelspec": {
   "display_name": "Python 3",
   "language": "python",
   "name": "python3"
  },
  "language_info": {
   "codemirror_mode": {
    "name": "ipython",
    "version": 3
   },
   "file_extension": ".py",
   "mimetype": "text/x-python",
   "name": "python",
   "nbconvert_exporter": "python",
   "pygments_lexer": "ipython3",
   "version": "3.7.3"
  }
 },
 "nbformat": 4,
 "nbformat_minor": 4
}
